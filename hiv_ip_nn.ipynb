{
 "cells": [
  {
   "cell_type": "markdown",
   "metadata": {},
   "source": [
    "dataframe with parameters"
   ]
  },
  {
   "cell_type": "code",
   "execution_count": null,
   "metadata": {},
   "outputs": [],
   "source": [
    "using DataFrames, CSV\n",
    "df = CSV.read(\"hiv_pam.csv\", DataFrame);\n",
    "println(\"$df\")"
   ]
  },
  {
   "cell_type": "markdown",
   "metadata": {},
   "source": [
    "symbolic mathematical model"
   ]
  },
  {
   "cell_type": "code",
   "execution_count": 1,
   "metadata": {},
   "outputs": [],
   "source": [
    "using NeuralPDE, Lux, ModelingToolkit, Optimization, OptimizationOptimJL, OrdinaryDiffEq, Plots\n",
    "import ModelingToolkit: Interval, infimum, supremum"
   ]
  },
  {
   "cell_type": "code",
   "execution_count": 2,
   "metadata": {},
   "outputs": [
    {
     "data": {
      "text/plain": [
       "1.0"
      ]
     },
     "execution_count": 2,
     "metadata": {},
     "output_type": "execute_result"
    }
   ],
   "source": [
    "using ModelingToolkit\n",
    "import ModelingToolkit: Interval, infimum, supremum\n",
    "\n",
    "ε_1, ε_2, a_A, a_T = 0.0, 0.0,0.0, 0.008\n",
    "u = 0.0; rho_1 = 1.0; rho_2 = 1.0; \n",
    "@parameters t, d_1, δ, d_2, f, ε_2, a_A, a_T, a_E, γ_E, \n",
    "                δ_E2, ε_1, m, K_V, γ_T, c, d_E, δ_E1, p_T, \n",
    "                p_E, b_E2, k_1, k_2, λ_T, K_S, N_T, λ_E, K_γ, \n",
    "                K_b1, K_b2, K_d, b_E1;\n",
    "\n",
    "@variables T_1(..), Ts_1(..), T_2(..), Ts_2(..), V_1(..), V_2(..), E_1(..), E_2(..) \n",
    "Dt = Differential(t)\n",
    "\n",
    "eqs=[\n",
    "        Dt(T_1(t))~-d_1*T_1(t)-(1-u*ε_1)*k_1*V_1(t)*T_1(t)-γ_T*T_1(t)+p_T*(a_T*V_1(t))/(V_1(t)+K_V)*T_2(t)+p_T*a_A*T_2(t),\n",
    "        Dt(Ts_1(t))~(1-u*ε_1)*k_1*V_1(t)*T_1(t)-δ*Ts_1(t)-m*E_1(t)*Ts_1(t)-γ_T*Ts_1(t)+p_T*(a_T*V_1(t))/(V_1(t)+K_V)*Ts_2(t)+p_T*a_A*Ts_2(t),\n",
    "        Dt(T_2(t))~λ_T*K_S/(V_1(t)+K_S)+γ_T*T_1(t)-d_2*T_2(t)-(1-f*u*ε_1)*k_2*V_1(t)*T_2(t)-(a_T*V_1(t))/(V_1(t)+K_V)*T_2(t)-a_A*T_2(t),\n",
    "        Dt(Ts_2(t))~γ_T*Ts_1(t)+(1-f*u*ε_1)*k_2*V_1(t)*T_2(t)-d_2*T_2(t)-(a_T*V_1(t))/(V_1(t)+K_V)*Ts_2(t)-a_A*Ts_2(t),\n",
    "        Dt(V_1(t))~(1-u*ε_2)*1000.0*N_T*δ*Ts_1(t)-c*V_1(t)-1000.0*((1-u*ε_1)*rho_1*k_1*T_1(t)+(1-f*u*ε_1)*rho_2*k_2*T_2(t))*V_1(t),\n",
    "        Dt(V_2(t))~u*ε_2*1000.0*N_T*δ*Ts_1(t)-c*V_2(t),\n",
    "        Dt(E_1(t))~λ_E+b_E1*Ts_1(t)*E_1(t)/(Ts_1(t)+K_b1)-d_E*Ts_1(t)*E_1(t)/(Ts_1(t)+K_d)-δ_E1*E_1(t)-γ_E*(T_1(t)+Ts_1(t))*E_1(t)/(T_1(t)+Ts_1(t)+K_γ)+p_E*a_E*V_1(t)*E_2(t)/(V_1(t)+K_V),\n",
    "        Dt(E_2(t))~γ_E*(T_1(t)+Ts_1(t))*E_1(t)/(T_1(t)+Ts_1(t)+K_γ)+b_E2*K_b2*E_2(t)/(E_2(t)+K_b2)-δ_E2*E_2(t)-a_E*V_1(t)*E_2(t)/(V_1(t)+K_V)\n",
    "]\n",
    "\n",
    "sim = [T_1(0),Ts_1(0),T_2(0),Ts_2(0),V_1(0),V_2(0),E_1(0),E_2(0)];\n",
    "init_df = [13.13,5.330, 424.4, 2.984, 10., 0., 0.04574, 0.002863]\n",
    "bcs = [s ~ i for (s,i) in zip(sim,init_df)]\n",
    "domains = [t ∈ Interval(0.0,100.0)]\n",
    "dt = 1.0"
   ]
  },
  {
   "cell_type": "code",
   "execution_count": 3,
   "metadata": {},
   "outputs": [],
   "source": [
    "sp = [d_1, δ, d_2, f, ε_2, a_A, a_T, a_E, γ_E, \n",
    "δ_E2, ε_1, m, K_V, γ_T, c, d_E, δ_E1, p_T, \n",
    "p_E, b_E2, k_1, k_2, λ_T, K_S, N_T, λ_E, K_γ, \n",
    "K_b1, K_b2, K_d, b_E1];"
   ]
  },
  {
   "cell_type": "markdown",
   "metadata": {},
   "source": [
    "initial data"
   ]
  },
  {
   "cell_type": "markdown",
   "metadata": {},
   "source": [
    "#### creat modelling_data"
   ]
  },
  {
   "cell_type": "code",
   "execution_count": 4,
   "metadata": {},
   "outputs": [
    {
     "data": {
      "text/plain": [
       "model_hiv (generic function with 1 method)"
      ]
     },
     "execution_count": 4,
     "metadata": {},
     "output_type": "execute_result"
    }
   ],
   "source": [
    "function model_hiv(dX,X,p,t)\n",
    "\n",
    "    rho1 = 1.; rho2 = 1.;\n",
    "    ksi1 = p[11]*p[32]; ksi2 = p[5]*p[32];     \n",
    "    \n",
    "      dX[1] = -p[1] * X[1] - (1 - ksi1) * p[21] * X[5] * X[1] - p[14] * X[1] + p[18] * (p[7] *(X[5]/(X[5]+p[13]))+p[6]) * X[3];  #dT1\n",
    "        \n",
    "      dX[2] = (1. - ksi1) * p[21] * X[5] * X[1] - p[2] * X[2] - p[12] * X[7] * X[2] - p[14] * X[2] + p[18] * (p[7] * (X[5]/(X[5]+p[13])) + p[6]) * X[4]; #dT*_1\n",
    "        \n",
    "      dX[3] = p[23] * (p[24]/(X[5]+p[24])) + p[14] * X[1] - p[3] * X[3] - (1. - p[4] * ksi1)  * p[22] * X[5] * X[3] - (p[7] * (X[5]/(X[5]+p[13])) + p[6]) * X[3]; #dT2\n",
    "      \n",
    "      dX[4] = p[14] * X[2] + (1 - p[4] * ksi1)  * p[22] * X[5] * X[3] - p[3] * X[4] - (p[7] * (X[5]/(X[5]+p[13])) + p[6]) * X[4]; #dT_2\n",
    "        \n",
    "      dX[5] = (1. - ksi2) * 10^3 * p[25] * p[2] * X[2] - p[15] * X[5] - 10^3 * ((1 - ksi1) * rho1 * p[21] * X[1] * X[5]) - 10^3 * ((1. - p[4] * ksi1) * rho2 * p[22] * X[3] * X[5]) ; #dVI\n",
    "        \n",
    "      dX[6] = ksi2 * 10^3 * p[25] * p[2] * X[2] - p[15] * X[6]; #dVNI\n",
    "        \n",
    "      dX[7] = p[26] + p[31] * (X[2]/(X[2]+p[28])) * X[7] - p[16] * (X[2]/(X[2]+p[30])) * X[7] - p[17] * X[7] - p[9] * ((X[1]+X[2])/(X[1]+X[2]+p[27])) * X[7] + p[19] * p[8] * (X[5]/(X[5]+p[13])) * X[8]; #p[16]1\n",
    "        \n",
    "      dX[8] = p[9] * ((X[1]+X[2])/(X[1]+X[2]+p[27])) * X[7] + p[20] * (p[29]/(X[8]+p[29]))* X[8] - p[10] * X[8] - p[8] * (X[5]/(X[5]+p[13])) * X[8];\n",
    "     \n",
    "     \n",
    "end"
   ]
  },
  {
   "cell_type": "code",
   "execution_count": 5,
   "metadata": {},
   "outputs": [],
   "source": [
    "using DataFrames, CSV\n",
    "df = CSV.read(\"hiv_pam.csv\", DataFrame);\n",
    "df.value2[11] = 0.0\n",
    "pam = df.value2;\n"
   ]
  },
  {
   "cell_type": "code",
   "execution_count": 6,
   "metadata": {},
   "outputs": [],
   "source": [
    "struct Fix\n",
    "    value \n",
    "    index\n",
    "end\n",
    "\n",
    "function fix_parameters(dt::DataFrame,find_parameter)# what pust dt::?\n",
    "\n",
    "    indexes = filter(i->dt[i,1] ∉ find_parameter, range(1,size(dt,1)))\n",
    "    value_fix = dt[indexes,2]\n",
    "    fil_set = filter(i->dt[i,1] in find_parameter, range(1,size(dt,1)));\n",
    "    pam = dt[fil_set,2]\n",
    "    return (pam,Fix(value_fix,indexes))\n",
    "\n",
    "end\n",
    "\n",
    "\n",
    "function CollectVector(q,fix_pam::Fix)\n",
    "    p = [];\n",
    "    p = append!(p,q)\n",
    "    if length(fix_pam.value)!=0 \n",
    "        for (i,j) in zip(fix_pam.index,fix_pam.value)\n",
    "        p = insert!(p,i,j) \n",
    "        end\n",
    "    end\n",
    "    return p\n",
    "end\n",
    "\n",
    "using DifferentialEquations\n",
    "struct ODEs\n",
    "    model::Function\n",
    "    ID\n",
    "    time\n",
    "    step\n",
    "  end\n",
    "  \n",
    "  \n",
    "function solve_ODE(ode::ODEs,q; fix_pam=Fix([],[]), method=Tsit5()) #fix_pam = fix, ind = indexes)\n",
    "    \n",
    "    pam = CollectVector(q,fix_pam)\n",
    "    pam = append!(pam,1.0)\n",
    "    prob = ODEProblem(ode.model,ode.ID,ode.time,pam)\n",
    "    data =  solve(prob,method,saveat=ode.step);\n",
    "    return data\n",
    "end;"
   ]
  },
  {
   "cell_type": "code",
   "execution_count": 7,
   "metadata": {},
   "outputs": [],
   "source": [
    "ID = [13.13,5.330, 424.4, 2.984, 10., 0., 0.04574, 0.002863]\n",
    "t_start = 0.0; t_end = 100.0; step = 1.0\n",
    "tspan = [t_start, t_end]\n",
    "modelling_data = solve_ODE(ODEs(model_hiv,ID,tspan,step),pam);"
   ]
  },
  {
   "cell_type": "code",
   "execution_count": 8,
   "metadata": {},
   "outputs": [
    {
     "data": {
      "text/plain": [
       "101"
      ]
     },
     "execution_count": 8,
     "metadata": {},
     "output_type": "execute_result"
    }
   ],
   "source": [
    "ts = [infimum(d.domain):dt:supremum(d.domain) for d in domains][1]\n",
    "function getData(sol)\n",
    "    data = []\n",
    "    us = hcat(sol(ts).u...)\n",
    "    ts_ = hcat(sol(ts).t...)\n",
    "    return [us,ts_]\n",
    "end\n",
    "data = getData(modelling_data)\n",
    "\n",
    "(u_ , t_) = data\n",
    "len = length(data[2])"
   ]
  },
  {
   "cell_type": "code",
   "execution_count": null,
   "metadata": {},
   "outputs": [],
   "source": [
    "data = modelling_data\n",
    "T = data.t\n",
    "Total_CD4 = map(i->(data[1,i]+data[2,i]+data[3,i]+data[4,i]),range(1,length(data[1,:])))\n",
    "VL = map(i->(data[5,i]+data[6,i]), range(1,length(data.t)));\n",
    "VL1 = log10.(VL);"
   ]
  },
  {
   "cell_type": "code",
   "execution_count": null,
   "metadata": {},
   "outputs": [],
   "source": [
    "using Plots\n",
    "plot(data.t,Total_CD4, ylabel = \"CD4 T-клетки/мкл\", label =\"смоделированные данные\", markershapes = :o, markersize = 3,c=:blue)\n"
   ]
  },
  {
   "cell_type": "code",
   "execution_count": null,
   "metadata": {},
   "outputs": [],
   "source": [
    "#savefig(\"md_TTcell.png\")"
   ]
  },
  {
   "cell_type": "code",
   "execution_count": null,
   "metadata": {},
   "outputs": [],
   "source": [
    "plot(data.t, VL,  xlabel = \"t(дни)\",c=:red,markershapes = :o, markersize = 3, ylabel = \"вирусные копии/мл\", label =\"смоделированные данные\")"
   ]
  },
  {
   "cell_type": "code",
   "execution_count": null,
   "metadata": {},
   "outputs": [],
   "source": [
    "#savefig(\"md_VL.png\")"
   ]
  },
  {
   "cell_type": "markdown",
   "metadata": {},
   "source": [
    "upload medical-experemental data for u_\n",
    "- Virual Load data\n",
    "- Total T-cells"
   ]
  },
  {
   "cell_type": "code",
   "execution_count": null,
   "metadata": {},
   "outputs": [],
   "source": [
    "using DataFrames, CSV\n",
    "name_Time = [\"Pre-infection\",\n",
    "    \"0 Weeks\",\n",
    "    \"1 Weeks\",\n",
    "    \"2 Weeks\",\n",
    "    \"3 Weeks\",\n",
    "    \"4 Weeks\",\n",
    "    \"6 Months\",\n",
    "    \"1 Year\"]\n",
    "    \n",
    "val_Time =[0.0,\n",
    "    7.0,\n",
    "    14.0,\n",
    "    21.0,\n",
    "    28.0,\n",
    "    35.0,\n",
    "    180.0,\n",
    "    365.0]\n",
    "#P1\n",
    "val_VL = [0.0, 5.89, 7.96,6.3,5.91,5.87,4.5,5.0]\n",
    "val_CD4 = [1200.,890., 600.,420.,550.,520.,560.,580.]\n",
    "\n",
    "meas_data = DataFrame(name=name_Time, day=val_Time, P1_VL=val_VL, P1_CD4=val_CD4)"
   ]
  },
  {
   "cell_type": "markdown",
   "metadata": {},
   "source": [
    "loss_function for nn"
   ]
  },
  {
   "cell_type": "code",
   "execution_count": null,
   "metadata": {},
   "outputs": [],
   "source": [
    "#len - это # количество точек измерений время час день т д \n",
    "#depvars = [:T_1,:Ts_1,:T_2,:Ts_2,:V_1,:V_2,:E_1,:E_2]\n",
    "#function additional_loss(phi, θ , p)\n",
    "    #return sum(sum(abs2, phi[i](t_ , θ[depvars[i]]) .- u_[[i], :])/len for i in 1:1:8)\n",
    "#end"
   ]
  },
  {
   "cell_type": "code",
   "execution_count": 9,
   "metadata": {},
   "outputs": [
    {
     "data": {
      "text/plain": [
       "additional_loss (generic function with 1 method)"
      ]
     },
     "execution_count": 9,
     "metadata": {},
     "output_type": "execute_result"
    }
   ],
   "source": [
    "\n",
    "depvars = [:T_1,:Ts_1,:T_2,:Ts_2,:V_1,:V_2,:E_1,:E_2]\n",
    "\n",
    "\n",
    "function additional_loss(phi, θ , p)\n",
    "    Phi(i) = phi[i](t_ , θ[depvars[i]])\n",
    "    data_U(i) = u_[[i], :]\n",
    "    sum_4(x) = x(1) .+ x(2) .+ x(3) .+ x(4)\n",
    "    sum_56(x) = x(5) .+ x(6)\n",
    "    return sum(abs2, sum_4(Phi) .- sum_4(data_U))/len + sum(abs2, sum_56(Phi) .- sum_56(data_U))/len\n",
    "end"
   ]
  },
  {
   "cell_type": "markdown",
   "metadata": {},
   "source": [
    "layer"
   ]
  },
  {
   "cell_type": "code",
   "execution_count": 10,
   "metadata": {},
   "outputs": [
    {
     "data": {
      "text/plain": [
       "8-element Vector{Chain{NamedTuple{(:layer_1, :layer_2, :layer_3, :layer_4), Tuple{Dense{true, typeof(NNlib.sigmoid_fast), typeof(Lux.glorot_uniform), typeof(Lux.zeros32)}, Dense{true, typeof(NNlib.sigmoid_fast), typeof(Lux.glorot_uniform), typeof(Lux.zeros32)}, Dense{true, typeof(NNlib.sigmoid_fast), typeof(Lux.glorot_uniform), typeof(Lux.zeros32)}, Dense{true, typeof(identity), typeof(Lux.glorot_uniform), typeof(Lux.zeros32)}}}}}:\n",
       " Chain()             \u001b[90m# 169 parameters\u001b[39m\n",
       " Chain()             \u001b[90m# 169 parameters\u001b[39m\n",
       " Chain()             \u001b[90m# 169 parameters\u001b[39m\n",
       " Chain()             \u001b[90m# 169 parameters\u001b[39m\n",
       " Chain()             \u001b[90m# 169 parameters\u001b[39m\n",
       " Chain()             \u001b[90m# 169 parameters\u001b[39m\n",
       " Chain()             \u001b[90m# 169 parameters\u001b[39m\n",
       " Chain()             \u001b[90m# 169 parameters\u001b[39m"
      ]
     },
     "execution_count": 10,
     "metadata": {},
     "output_type": "execute_result"
    }
   ],
   "source": [
    "input_ = length(domains)\n",
    "n = 8\n",
    "chain1 = Lux.Chain(Dense(input_,n,Lux.σ),Dense(n,n,Lux.σ),Dense(n,n,Lux.σ),Dense(n,1))\n",
    "chain2 = Lux.Chain(Dense(input_,n,Lux.σ),Dense(n,n,Lux.σ),Dense(n,n,Lux.σ),Dense(n,1))\n",
    "chain3 = Lux.Chain(Dense(input_,n,Lux.σ),Dense(n,n,Lux.σ),Dense(n,n,Lux.σ),Dense(n,1))\n",
    "chain4 = Lux.Chain(Dense(input_,n,Lux.σ),Dense(n,n,Lux.σ),Dense(n,n,Lux.σ),Dense(n,1))\n",
    "chain5 = Lux.Chain(Dense(input_,n,Lux.σ),Dense(n,n,Lux.σ),Dense(n,n,Lux.σ),Dense(n,1))\n",
    "chain6 = Lux.Chain(Dense(input_,n,Lux.σ),Dense(n,n,Lux.σ),Dense(n,n,Lux.σ),Dense(n,1))\n",
    "chain7 = Lux.Chain(Dense(input_,n,Lux.σ),Dense(n,n,Lux.σ),Dense(n,n,Lux.σ),Dense(n,1))\n",
    "chain8 = Lux.Chain(Dense(input_,n,Lux.σ),Dense(n,n,Lux.σ),Dense(n,n,Lux.σ),Dense(n,1))\n",
    "\n",
    "chain = [chain1 , chain2, chain3, chain4, chain5, chain6, chain7, chain8]\n",
    "\n"
   ]
  },
  {
   "cell_type": "code",
   "execution_count": 11,
   "metadata": {},
   "outputs": [],
   "source": [
    "using NeuralPDE, Lux, CUDA, Random\n",
    "using Optimization\n",
    "using OptimizationOptimisers\n",
    "import ModelingToolkit: Interval\n"
   ]
  },
  {
   "cell_type": "code",
   "execution_count": null,
   "metadata": {},
   "outputs": [],
   "source": [
    "import Pkg; Pkg.add(\"ComponentArrays\")"
   ]
  },
  {
   "cell_type": "code",
   "execution_count": 14,
   "metadata": {},
   "outputs": [
    {
     "ename": "LoadError",
     "evalue": "MethodError: no method matching setup(::TaskLocalRNG, ::Vector{Chain{NamedTuple{(:layer_1, :layer_2, :layer_3, :layer_4), Tuple{Dense{true, typeof(NNlib.sigmoid_fast), typeof(Lux.glorot_uniform), typeof(Lux.zeros32)}, Dense{true, typeof(NNlib.sigmoid_fast), typeof(Lux.glorot_uniform), typeof(Lux.zeros32)}, Dense{true, typeof(NNlib.sigmoid_fast), typeof(Lux.glorot_uniform), typeof(Lux.zeros32)}, Dense{true, typeof(identity), typeof(Lux.glorot_uniform), typeof(Lux.zeros32)}}}}})\n\u001b[0mClosest candidates are:\n\u001b[0m  setup(::AbstractRNG, \u001b[91m::Lux.AbstractExplicitLayer\u001b[39m) at C:\\Users\\Pavel\\.julia\\packages\\Lux\\TVdTD\\src\\core.jl:76",
     "output_type": "error",
     "traceback": [
      "MethodError: no method matching setup(::TaskLocalRNG, ::Vector{Chain{NamedTuple{(:layer_1, :layer_2, :layer_3, :layer_4), Tuple{Dense{true, typeof(NNlib.sigmoid_fast), typeof(Lux.glorot_uniform), typeof(Lux.zeros32)}, Dense{true, typeof(NNlib.sigmoid_fast), typeof(Lux.glorot_uniform), typeof(Lux.zeros32)}, Dense{true, typeof(NNlib.sigmoid_fast), typeof(Lux.glorot_uniform), typeof(Lux.zeros32)}, Dense{true, typeof(identity), typeof(Lux.glorot_uniform), typeof(Lux.zeros32)}}}}})\n\u001b[0mClosest candidates are:\n\u001b[0m  setup(::AbstractRNG, \u001b[91m::Lux.AbstractExplicitLayer\u001b[39m) at C:\\Users\\Pavel\\.julia\\packages\\Lux\\TVdTD\\src\\core.jl:76",
      "",
      "Stacktrace:",
      " [1] top-level scope",
      "   @ In[14]:2",
      " [2] eval",
      "   @ .\\boot.jl:368 [inlined]",
      " [3] include_string(mapexpr::typeof(REPL.softscope), mod::Module, code::String, filename::String)",
      "   @ Base .\\loading.jl:1428"
     ]
    }
   ],
   "source": [
    "using Random\n",
    "ps, st = Lux.setup(Random.default_rng(), [chain1 , chain2, chain3, chain4, chain5, chain6, chain7, chain8]) |> gpu\n",
    "\n"
   ]
  },
  {
   "cell_type": "code",
   "execution_count": 15,
   "metadata": {},
   "outputs": [],
   "source": [
    "using ComponentArrays, CUDA, Lux, Random"
   ]
  },
  {
   "cell_type": "code",
   "execution_count": 16,
   "metadata": {},
   "outputs": [
    {
     "data": {
      "text/plain": [
       "\u001b[0mComponentVector{Float64, CuArray{Float64, 1, CUDA.Mem.DeviceBuffer}, Tuple{Axis{(T_1 = ViewAxis(1:169, Axis(layer_1 = ViewAxis(1:16, Axis(weight = ViewAxis(1:8, ShapedAxis((8, 1), NamedTuple())), bias = ViewAxis(9:16, ShapedAxis((8, 1), NamedTuple())))), layer_2 = ViewAxis(17:88, Axis(weight = ViewAxis(1:64, ShapedAxis((8, 8), NamedTuple())), bias = ViewAxis(65:72, ShapedAxis((8, 1), NamedTuple())))), layer_3 = ViewAxis(89:160, Axis(weight = ViewAxis(1:64, ShapedAxis((8, 8), NamedTuple())), bias = ViewAxis(65:72, ShapedAxis((8, 1), NamedTuple())))), layer_4 = ViewAxis(161:169, Axis(weight = ViewAxis(1:8, ShapedAxis((1, 8), NamedTuple())), bias = ViewAxis(9:9, ShapedAxis((1, 1), NamedTuple())))))), Ts_1 = ViewAxis(170:338, Axis(layer_1 = ViewAxis(1:16, Axis(weight = ViewAxis(1:8, ShapedAxis((8, 1), NamedTuple())), bias = ViewAxis(9:16, ShapedAxis((8, 1), NamedTuple())))), layer_2 = ViewAxis(17:88, Axis(weight = ViewAxis(1:64, ShapedAxis((8, 8), NamedTuple())), bias = ViewAxis(65:72, ShapedAxis((8, 1), NamedTuple())))), layer_3 = ViewAxis(89:160, Axis(weight = ViewAxis(1:64, ShapedAxis((8, 8), NamedTuple())), bias = ViewAxis(65:72, ShapedAxis((8, 1), NamedTuple())))), layer_4 = ViewAxis(161:169, Axis(weight = ViewAxis(1:8, ShapedAxis((1, 8), NamedTuple())), bias = ViewAxis(9:9, ShapedAxis((1, 1), NamedTuple())))))), T_2 = ViewAxis(339:507, Axis(layer_1 = ViewAxis(1:16, Axis(weight = ViewAxis(1:8, ShapedAxis((8, 1), NamedTuple())), bias = ViewAxis(9:16, ShapedAxis((8, 1), NamedTuple())))), layer_2 = ViewAxis(17:88, Axis(weight = ViewAxis(1:64, ShapedAxis((8, 8), NamedTuple())), bias = ViewAxis(65:72, ShapedAxis((8, 1), NamedTuple())))), layer_3 = ViewAxis(89:160, Axis(weight = ViewAxis(1:64, ShapedAxis((8, 8), NamedTuple())), bias = ViewAxis(65:72, ShapedAxis((8, 1), NamedTuple())))), layer_4 = ViewAxis(161:169, Axis(weight = ViewAxis(1:8, ShapedAxis((1, 8), NamedTuple())), bias = ViewAxis(9:9, ShapedAxis((1, 1), NamedTuple())))))), Ts_2 = ViewAxis(508:676, Axis(layer_1 = ViewAxis(1:16, Axis(weight = ViewAxis(1:8, ShapedAxis((8, 1), NamedTuple())), bias = ViewAxis(9:16, ShapedAxis((8, 1), NamedTuple())))), layer_2 = ViewAxis(17:88, Axis(weight = ViewAxis(1:64, ShapedAxis((8, 8), NamedTuple())), bias = ViewAxis(65:72, ShapedAxis((8, 1), NamedTuple())))), layer_3 = ViewAxis(89:160, Axis(weight = ViewAxis(1:64, ShapedAxis((8, 8), NamedTuple())), bias = ViewAxis(65:72, ShapedAxis((8, 1), NamedTuple())))), layer_4 = ViewAxis(161:169, Axis(weight = ViewAxis(1:8, ShapedAxis((1, 8), NamedTuple())), bias = ViewAxis(9:9, ShapedAxis((1, 1), NamedTuple())))))), V_1 = ViewAxis(677:845, Axis(layer_1 = ViewAxis(1:16, Axis(weight = ViewAxis(1:8, ShapedAxis((8, 1), NamedTuple())), bias = ViewAxis(9:16, ShapedAxis((8, 1), NamedTuple())))), layer_2 = ViewAxis(17:88, Axis(weight = ViewAxis(1:64, ShapedAxis((8, 8), NamedTuple())), bias = ViewAxis(65:72, ShapedAxis((8, 1), NamedTuple())))), layer_3 = ViewAxis(89:160, Axis(weight = ViewAxis(1:64, ShapedAxis((8, 8), NamedTuple())), bias = ViewAxis(65:72, ShapedAxis((8, 1), NamedTuple())))), layer_4 = ViewAxis(161:169, Axis(weight = ViewAxis(1:8, ShapedAxis((1, 8), NamedTuple())), bias = ViewAxis(9:9, ShapedAxis((1, 1), NamedTuple())))))), V_2 = ViewAxis(846:1014, Axis(layer_1 = ViewAxis(1:16, Axis(weight = ViewAxis(1:8, ShapedAxis((8, 1), NamedTuple())), bias = ViewAxis(9:16, ShapedAxis((8, 1), NamedTuple())))), layer_2 = ViewAxis(17:88, Axis(weight = ViewAxis(1:64, ShapedAxis((8, 8), NamedTuple())), bias = ViewAxis(65:72, ShapedAxis((8, 1), NamedTuple())))), layer_3 = ViewAxis(89:160, Axis(weight = ViewAxis(1:64, ShapedAxis((8, 8), NamedTuple())), bias = ViewAxis(65:72, ShapedAxis((8, 1), NamedTuple())))), layer_4 = ViewAxis(161:169, Axis(weight = ViewAxis(1:8, ShapedAxis((1, 8), NamedTuple())), bias = ViewAxis(9:9, ShapedAxis((1, 1), NamedTuple())))))), E_1 = ViewAxis(1015:1183, Axis(layer_1 = ViewAxis(1:16, Axis(weight = ViewAxis(1:8, ShapedAxis((8, 1), NamedTuple())), bias = ViewAxis(9:16, ShapedAxis((8, 1), NamedTuple())))), layer_2 = ViewAxis(17:88, Axis(weight = ViewAxis(1:64, ShapedAxis((8, 8), NamedTuple())), bias = ViewAxis(65:72, ShapedAxis((8, 1), NamedTuple())))), layer_3 = ViewAxis(89:160, Axis(weight = ViewAxis(1:64, ShapedAxis((8, 8), NamedTuple())), bias = ViewAxis(65:72, ShapedAxis((8, 1), NamedTuple())))), layer_4 = ViewAxis(161:169, Axis(weight = ViewAxis(1:8, ShapedAxis((1, 8), NamedTuple())), bias = ViewAxis(9:9, ShapedAxis((1, 1), NamedTuple())))))), E_2 = ViewAxis(1184:1352, Axis(layer_1 = ViewAxis(1:16, Axis(weight = ViewAxis(1:8, ShapedAxis((8, 1), NamedTuple())), bias = ViewAxis(9:16, ShapedAxis((8, 1), NamedTuple())))), layer_2 = ViewAxis(17:88, Axis(weight = ViewAxis(1:64, ShapedAxis((8, 8), NamedTuple())), bias = ViewAxis(65:72, ShapedAxis((8, 1), NamedTuple())))), layer_3 = ViewAxis(89:160, Axis(weight = ViewAxis(1:64, ShapedAxis((8, 8), NamedTuple())), bias = ViewAxis(65:72, ShapedAxis((8, 1), NamedTuple())))), layer_4 = ViewAxis(161:169, Axis(weight = ViewAxis(1:8, ShapedAxis((1, 8), NamedTuple())), bias = ViewAxis(9:9, ShapedAxis((1, 1), NamedTuple())))))))}}}(T_1 = (layer_1 = (weight = [0.3472350835800171; -0.2352820187807083; … ; 0.727726936340332; 0.05165981501340866;;], bias = [0.0; 0.0; … ; 0.0; 0.0;;]), layer_2 = (weight = [0.2935100495815277 -0.1616118997335434 … -0.15721216797828674 0.2999734580516815; -0.17012478411197662 -0.2459390014410019 … -0.05422067269682884 0.44402816891670227; … ; -0.2503020167350769 -0.6107743978500366 … 0.5841361880302429 -0.19273996353149414; 0.22032400965690613 0.30177071690559387 … 0.5878362655639648 -0.06105286255478859], bias = [0.0; 0.0; … ; 0.0; 0.0;;]), layer_3 = (weight = [-0.5027032494544983 -0.14828917384147644 … 0.3486836850643158 -0.42881879210472107; -0.06522498279809952 -0.12579305469989777 … 0.47493860125541687 -0.014426647685468197; … ; 0.5511103272438049 0.4846305251121521 … -0.0007074477034620941 0.06058339402079582; 0.33779966831207275 0.47656694054603577 … -0.2097802609205246 0.5154148936271667], bias = [0.0; 0.0; … ; 0.0; 0.0;;]), layer_4 = (weight = [0.5254133343696594 0.5031810402870178 … 0.13330043852329254 -0.660968005657196], bias = [0.0;;])), Ts_1 = (layer_1 = (weight = [-0.6405633687973022; 0.15192782878875732; … ; -0.09113594889640808; 0.38346102833747864;;], bias = [0.0; 0.0; … ; 0.0; 0.0;;]), layer_2 = (weight = [-0.2597120702266693 -0.11071699112653732 … -0.12195111066102982 -0.11731652915477753; -0.22279506921768188 0.26703089475631714 … 0.0005832738825120032 0.5792002081871033; … ; 0.13269773125648499 0.13261647522449493 … 0.5128169059753418 0.06458922475576401; -0.225750133395195 -0.08278218656778336 … -0.48524385690689087 0.1149139329791069], bias = [0.0; 0.0; … ; 0.0; 0.0;;]), layer_3 = (weight = [0.22970165312290192 -0.3207646310329437 … -0.4382496476173401 0.4363979995250702; -0.5686675310134888 0.4294014275074005 … -0.022406477481126785 -0.2730867266654968; … ; -0.2452307492494583 0.1295003741979599 … 0.5641976594924927 0.4189758598804474; 0.2365785837173462 0.2904985845088959 … -0.10676708072423935 0.20331759750843048], bias = [0.0; 0.0; … ; 0.0; 0.0;;]), layer_4 = (weight = [-0.03163948282599449 -0.6654533743858337 … 0.24386045336723328 -0.31037411093711853], bias = [0.0;;])), T_2 = (layer_1 = (weight = [-0.308056503534317; -0.6590423583984375; … ; -0.7811813950538635; 0.7462625503540039;;], bias = [0.0; 0.0; … ; 0.0; 0.0;;]), layer_2 = (weight = [0.10066817700862885 0.023334167897701263 … 0.08413729071617126 0.2181164026260376; -0.0858108326792717 0.47648563981056213 … -0.20142163336277008 0.5052220821380615; … ; 0.3992657959461212 -0.4428118169307709 … 0.5608720779418945 -0.08141335099935532; 0.16994725167751312 0.5689969062805176 … -0.15971273183822632 0.5914758443832397], bias = [0.0; 0.0; … ; 0.0; 0.0;;]), layer_3 = (weight = [0.3993176817893982 -0.25908705592155457 … -0.42168352007865906 -0.12424886971712112; -0.1803993135690689 -0.09416792541742325 … -0.5783674716949463 -0.5365879535675049; … ; -0.4489816725254059 -0.5491869449615479 … -0.14148391783237457 -0.3897952139377594; 0.45472171902656555 -0.5538660287857056 … 0.055062148720026016 -0.007374436128884554], bias = [0.0; 0.0; … ; 0.0; 0.0;;]), layer_4 = (weight = [0.1024143248796463 0.05329006165266037 … -0.6365682482719421 -0.005624638870358467], bias = [0.0;;])), Ts_2 = (layer_1 = (weight = [0.1781029850244522; 0.6963896751403809; … ; 0.29393547773361206; 0.15326549112796783;;], bias = [0.0; 0.0; … ; 0.0; 0.0;;]), layer_2 = (weight = [0.14171548187732697 0.5619279742240906 … 0.3406628370285034 0.5131686925888062; 0.007075863890349865 0.370400071144104 … 0.1653001755475998 -0.03605953976511955; … ; -0.030371852219104767 0.5460765361785889 … 0.45085158944129944 0.09568465501070023; -0.34541887044906616 -0.48607394099235535 … 0.18092185258865356 -0.18836724758148193], bias = [0.0; 0.0; … ; 0.0; 0.0;;]), layer_3 = (weight = [-0.026197172701358795 -0.14062295854091644 … 0.4583990275859833 -0.58829665184021; 0.21066370606422424 -0.5653611421585083 … -0.0955498218536377 -0.04963288456201553; … ; 0.49350008368492126 0.2608516812324524 … -0.6020069122314453 -0.4162443280220032; 0.4964468777179718 0.5458001494407654 … -0.4688749611377716 0.3442789912223816], bias = [0.0; 0.0; … ; 0.0; 0.0;;]), layer_4 = (weight = [-0.6185531616210938 0.11707545071840286 … 0.1914948672056198 0.42308753728866577], bias = [0.0;;])), V_1 = (layer_1 = (weight = [0.7321249842643738; -0.16734766960144043; … ; 0.7770299911499023; 0.0013622863916680217;;], bias = [0.0; 0.0; … ; 0.0; 0.0;;]), layer_2 = (weight = [-0.3698144853115082 0.5378241539001465 … -0.47920066118240356 0.5411649346351624; 0.448487251996994 -0.3854927122592926 … -0.5349071025848389 -0.322240948677063; … ; 0.4186437726020813 0.2985246777534485 … 0.526666522026062 -0.004773282911628485; -0.27811601758003235 -0.5272890329360962 … 0.49127671122550964 -0.2030758112668991], bias = [0.0; 0.0; … ; 0.0; 0.0;;]), layer_3 = (weight = [0.25384649634361267 0.3986736238002777 … 0.22945374250411987 0.4689013957977295; -0.402593731880188 -0.06707094609737396 … 0.3020818531513214 -0.22064082324504852; … ; -0.41557788848876953 0.20101749897003174 … 0.11402463912963867 0.11376599967479706; 0.054245345294475555 -0.08959320187568665 … 0.06207340955734253 0.5210669040679932], bias = [0.0; 0.0; … ; 0.0; 0.0;;]), layer_4 = (weight = [0.7634707093238831 -0.5071017742156982 … -0.6527183651924133 -0.2604566812515259], bias = [0.0;;])), V_2 = (layer_1 = (weight = [0.6058441996574402; 0.7041086554527283; … ; 0.8011170625686646; 0.08673031628131866;;], bias = [0.0; 0.0; … ; 0.0; 0.0;;]), layer_2 = (weight = [0.44604456424713135 -0.16088314354419708 … -0.11586279422044754 -0.12223383784294128; -0.5509307384490967 0.02239917777478695 … 0.3207593262195587 -0.016224650666117668; … ; -0.1830638349056244 0.05434199795126915 … 0.2914089560508728 0.4966196119785309; -0.2860679626464844 0.38238078355789185 … 0.15840324759483337 0.5558587908744812], bias = [0.0; 0.0; … ; 0.0; 0.0;;]), layer_3 = (weight = [-0.3643600344657898 -0.5256044268608093 … 0.5599502921104431 -0.459734708070755; 0.263945072889328 0.10648982226848602 … -0.25200366973876953 0.1983991116285324; … ; 0.0782526507973671 -0.2956659197807312 … -0.2003827542066574 0.0722491666674614; 0.5294835567474365 0.21376995742321014 … -0.03201742842793465 -0.5661254525184631], bias = [0.0; 0.0; … ; 0.0; 0.0;;]), layer_4 = (weight = [0.2222878485918045 0.4639829099178314 … -0.4119052290916443 -0.5901119709014893], bias = [0.0;;])), E_1 = (layer_1 = (weight = [0.5613315105438232; -0.24817974865436554; … ; -0.20332124829292297; 0.17328251898288727;;], bias = [0.0; 0.0; … ; 0.0; 0.0;;]), layer_2 = (weight = [0.3455880880355835 0.36602941155433655 … 0.12328643351793289 0.5049280524253845; 0.13897350430488586 -0.2883266508579254 … -0.029082080349326134 0.14454615116119385; … ; 0.18818576633930206 0.15416015684604645 … -0.0020481746178120375 -0.13893043994903564; -0.5440831780433655 -0.27721503376960754 … -0.5629561543464661 0.26497387886047363], bias = [0.0; 0.0; … ; 0.0; 0.0;;]), layer_3 = (weight = [0.03371958062052727 0.1285269856452942 … -0.4333091378211975 -0.5474967360496521; 0.5564855337142944 0.4782350957393646 … -0.13636556267738342 0.25129133462905884; … ; -0.20596466958522797 0.240219846367836 … -0.5135374665260315 0.5703974962234497; 0.34958603978157043 0.4925421476364136 … 0.3601803183555603 0.09255789965391159], bias = [0.0; 0.0; … ; 0.0; 0.0;;]), layer_4 = (weight = [0.768728494644165 0.6306662559509277 … 0.04575261473655701 0.7420238256454468], bias = [0.0;;])), E_2 = (layer_1 = (weight = [0.42170336842536926; -0.06605327129364014; … ; -0.6576824188232422; -0.7845784425735474;;], bias = [0.0; 0.0; … ; 0.0; 0.0;;]), layer_2 = (weight = [0.42172789573669434 0.3048412799835205 … -0.37426531314849854 0.34297671914100647; 0.584844172000885 0.42601826786994934 … -0.21095359325408936 0.44671347737312317; … ; -0.33605584502220154 -0.5660446882247925 … 0.0976213589310646 -0.36705565452575684; -0.3357176184654236 0.0381593257188797 … -0.3101814091205597 -0.008118019439280033], bias = [0.0; 0.0; … ; 0.0; 0.0;;]), layer_3 = (weight = [-0.4772230088710785 0.3191741108894348 … -0.22967755794525146 -0.20441435277462006; -0.5450513958930969 -0.250502347946167 … 0.5140464305877686 -0.317764550447464; … ; -0.157736673951149 0.26124808192253113 … 0.024412384256720543 0.4892202615737915; 0.23261041939258575 0.3667047917842865 … 0.566539466381073 -0.3437403738498688], bias = [0.0; 0.0; … ; 0.0; 0.0;;]), layer_4 = (weight = [-0.31353047490119934 -0.24554181098937988 … 0.6975107789039612 -0.18599599599838257], bias = [0.0;;])))"
      ]
     },
     "execution_count": 16,
     "metadata": {},
     "output_type": "execute_result"
    }
   ],
   "source": [
    "names = :T_1,:Ts_1,:T_2,:Ts_2,:V_1,:V_2,:E_1,:E_2\n",
    "\n",
    "init_params = Lux.initialparameters.(Random.default_rng(),\n",
    "                                     chain)\n",
    "init_params = NamedTuple{names}(init_params)\n",
    "init_params = ComponentArray(init_params)\n",
    "init_params = Float64.(gpu(init_params))"
   ]
  },
  {
   "cell_type": "code",
   "execution_count": null,
   "metadata": {},
   "outputs": [],
   "source": [
    "using ComponentArrays, CUDA, Lux, Random\n",
    "\n",
    "# [...]\n",
    "\n",
    "@parameters x y\n",
    "@variables f1(..) f2(..) f3(..) f4(..)\n",
    "\n",
    "# [...]\n",
    "\n",
    "chain = [chain1 , chain2, chain3, chain4]\n",
    "names = :f1, :f2, :f3, :f4  # same as the variables from the beginning\n",
    "\n",
    "init_params = Lux.initialparameters.(Random.default_rng(),\n",
    "                                     chain)\n",
    "init_params = NamedTuple{names}(init_params)\n",
    "init_params = ComponentArray(init_params)"
   ]
  },
  {
   "cell_type": "code",
   "execution_count": null,
   "metadata": {},
   "outputs": [],
   "source": [
    "init_params = Float64.(gpu(init_params))"
   ]
  },
  {
   "cell_type": "markdown",
   "metadata": {},
   "source": []
  },
  {
   "cell_type": "code",
   "execution_count": 17,
   "metadata": {},
   "outputs": [
    {
     "data": {
      "text/latex": [
       "$$ \\begin{equation}\n",
       "\\left[\n",
       "\\begin{array}{c}\n",
       "T_{1}\\left( t \\right) \\\\\n",
       "\\mathrm{Ts}_{1}\\left( t \\right) \\\\\n",
       "T_{2}\\left( t \\right) \\\\\n",
       "\\mathrm{Ts}_{2}\\left( t \\right) \\\\\n",
       "V_{1}\\left( t \\right) \\\\\n",
       "V_{2}\\left( t \\right) \\\\\n",
       "E_{1}\\left( t \\right) \\\\\n",
       "E_{2}\\left( t \\right) \\\\\n",
       "\\end{array}\n",
       "\\right]\n",
       "\\end{equation}\n",
       " $$"
      ],
      "text/plain": [
       "8-element Vector{Num}:\n",
       "  T_1(t)\n",
       " Ts_1(t)\n",
       "  T_2(t)\n",
       " Ts_2(t)\n",
       "  V_1(t)\n",
       "  V_2(t)\n",
       "        E_1(t)\n",
       "        E_2(t)"
      ]
     },
     "execution_count": 17,
     "metadata": {},
     "output_type": "execute_result"
    }
   ],
   "source": [
    "var = [T_1(t),Ts_1(t),T_2(t),Ts_2(t),V_1(t),V_2(t),E_1(t),E_2(t)]"
   ]
  },
  {
   "cell_type": "markdown",
   "metadata": {},
   "source": [
    "discretization"
   ]
  },
  {
   "cell_type": "code",
   "execution_count": 18,
   "metadata": {},
   "outputs": [
    {
     "ename": "LoadError",
     "evalue": "CuArray only supports element types that are stored inline",
     "output_type": "error",
     "traceback": [
      "CuArray only supports element types that are stored inline",
      "",
      "Stacktrace:",
      "  [1] error(s::String)",
      "    @ Base .\\error.jl:35",
      "  [2] CuArray{Vector{Float64}, 1, CUDA.Mem.DeviceBuffer}(#unused#::UndefInitializer, dims::Tuple{Int64})",
      "    @ CUDA C:\\Users\\Pavel\\.julia\\packages\\CUDA\\DfvRa\\src\\array.jl:34",
      "  [3] similar(a::CuArray{Float64, 1, CUDA.Mem.DeviceBuffer}, #unused#::Type{Vector{Float64}}, dims::Tuple{Int64})",
      "    @ CUDA C:\\Users\\Pavel\\.julia\\packages\\CUDA\\DfvRa\\src\\array.jl:166",
      "  [4] _mapreduce(f::typeof(identity), op::ComponentArrays.var\"#28#29\", As::CuArray{Float64, 1, CUDA.Mem.DeviceBuffer}; dims::Colon, init::Vector{Float64})",
      "    @ GPUArrays C:\\Users\\Pavel\\.julia\\packages\\GPUArrays\\fqD8z\\src\\host\\mapreduce.jl:64",
      "  [5] mapreduce(::Function, ::Function, ::CuArray{Float64, 1, CUDA.Mem.DeviceBuffer}; dims::Function, init::Vector{Float64})",
      "    @ GPUArrays C:\\Users\\Pavel\\.julia\\packages\\GPUArrays\\fqD8z\\src\\host\\mapreduce.jl:31",
      "  [6] #mapreduce#130",
      "    @ C:\\Users\\Pavel\\.julia\\packages\\ComponentArrays\\YyD7i\\src\\compat\\gpuarrays.jl:41 [inlined]",
      "  [7] reduce(op::Function, A::ComponentVector{Float64, CuArray{Float64, 1, CUDA.Mem.DeviceBuffer}, Tuple{Axis{(T_1 = ViewAxis(1:169, Axis(layer_1 = ViewAxis(1:16, Axis(weight = ViewAxis(1:8, ShapedAxis((8, 1), NamedTuple())), bias = ViewAxis(9:16, ShapedAxis((8, 1), NamedTuple())))), layer_2 = ViewAxis(17:88, Axis(weight = ViewAxis(1:64, ShapedAxis((8, 8), NamedTuple())), bias = ViewAxis(65:72, ShapedAxis((8, 1), NamedTuple())))), layer_3 = ViewAxis(89:160, Axis(weight = ViewAxis(1:64, ShapedAxis((8, 8), NamedTuple())), bias = ViewAxis(65:72, ShapedAxis((8, 1), NamedTuple())))), layer_4 = ViewAxis(161:169, Axis(weight = ViewAxis(1:8, ShapedAxis((1, 8), NamedTuple())), bias = ViewAxis(9:9, ShapedAxis((1, 1), NamedTuple())))))), Ts_1 = ViewAxis(170:338, Axis(layer_1 = ViewAxis(1:16, Axis(weight = ViewAxis(1:8, ShapedAxis((8, 1), NamedTuple())), bias = ViewAxis(9:16, ShapedAxis((8, 1), NamedTuple())))), layer_2 = ViewAxis(17:88, Axis(weight = ViewAxis(1:64, ShapedAxis((8, 8), NamedTuple())), bias = ViewAxis(65:72, ShapedAxis((8, 1), NamedTuple())))), layer_3 = ViewAxis(89:160, Axis(weight = ViewAxis(1:64, ShapedAxis((8, 8), NamedTuple())), bias = ViewAxis(65:72, ShapedAxis((8, 1), NamedTuple())))), layer_4 = ViewAxis(161:169, Axis(weight = ViewAxis(1:8, ShapedAxis((1, 8), NamedTuple())), bias = ViewAxis(9:9, ShapedAxis((1, 1), NamedTuple())))))), T_2 = ViewAxis(339:507, Axis(layer_1 = ViewAxis(1:16, Axis(weight = ViewAxis(1:8, ShapedAxis((8, 1), NamedTuple())), bias = ViewAxis(9:16, ShapedAxis((8, 1), NamedTuple())))), layer_2 = ViewAxis(17:88, Axis(weight = ViewAxis(1:64, ShapedAxis((8, 8), NamedTuple())), bias = ViewAxis(65:72, ShapedAxis((8, 1), NamedTuple())))), layer_3 = ViewAxis(89:160, Axis(weight = ViewAxis(1:64, ShapedAxis((8, 8), NamedTuple())), bias = ViewAxis(65:72, ShapedAxis((8, 1), NamedTuple())))), layer_4 = ViewAxis(161:169, Axis(weight = ViewAxis(1:8, ShapedAxis((1, 8), NamedTuple())), bias = ViewAxis(9:9, ShapedAxis((1, 1), NamedTuple())))))), Ts_2 = ViewAxis(508:676, Axis(layer_1 = ViewAxis(1:16, Axis(weight = ViewAxis(1:8, ShapedAxis((8, 1), NamedTuple())), bias = ViewAxis(9:16, ShapedAxis((8, 1), NamedTuple())))), layer_2 = ViewAxis(17:88, Axis(weight = ViewAxis(1:64, ShapedAxis((8, 8), NamedTuple())), bias = ViewAxis(65:72, ShapedAxis((8, 1), NamedTuple())))), layer_3 = ViewAxis(89:160, Axis(weight = ViewAxis(1:64, ShapedAxis((8, 8), NamedTuple())), bias = ViewAxis(65:72, ShapedAxis((8, 1), NamedTuple())))), layer_4 = ViewAxis(161:169, Axis(weight = ViewAxis(1:8, ShapedAxis((1, 8), NamedTuple())), bias = ViewAxis(9:9, ShapedAxis((1, 1), NamedTuple())))))), V_1 = ViewAxis(677:845, Axis(layer_1 = ViewAxis(1:16, Axis(weight = ViewAxis(1:8, ShapedAxis((8, 1), NamedTuple())), bias = ViewAxis(9:16, ShapedAxis((8, 1), NamedTuple())))), layer_2 = ViewAxis(17:88, Axis(weight = ViewAxis(1:64, ShapedAxis((8, 8), NamedTuple())), bias = ViewAxis(65:72, ShapedAxis((8, 1), NamedTuple())))), layer_3 = ViewAxis(89:160, Axis(weight = ViewAxis(1:64, ShapedAxis((8, 8), NamedTuple())), bias = ViewAxis(65:72, ShapedAxis((8, 1), NamedTuple())))), layer_4 = ViewAxis(161:169, Axis(weight = ViewAxis(1:8, ShapedAxis((1, 8), NamedTuple())), bias = ViewAxis(9:9, ShapedAxis((1, 1), NamedTuple())))))), V_2 = ViewAxis(846:1014, Axis(layer_1 = ViewAxis(1:16, Axis(weight = ViewAxis(1:8, ShapedAxis((8, 1), NamedTuple())), bias = ViewAxis(9:16, ShapedAxis((8, 1), NamedTuple())))), layer_2 = ViewAxis(17:88, Axis(weight = ViewAxis(1:64, ShapedAxis((8, 8), NamedTuple())), bias = ViewAxis(65:72, ShapedAxis((8, 1), NamedTuple())))), layer_3 = ViewAxis(89:160, Axis(weight = ViewAxis(1:64, ShapedAxis((8, 8), NamedTuple())), bias = ViewAxis(65:72, ShapedAxis((8, 1), NamedTuple())))), layer_4 = ViewAxis(161:169, Axis(weight = ViewAxis(1:8, ShapedAxis((1, 8), NamedTuple())), bias = ViewAxis(9:9, ShapedAxis((1, 1), NamedTuple())))))), E_1 = ViewAxis(1015:1183, Axis(layer_1 = ViewAxis(1:16, Axis(weight = ViewAxis(1:8, ShapedAxis((8, 1), NamedTuple())), bias = ViewAxis(9:16, ShapedAxis((8, 1), NamedTuple())))), layer_2 = ViewAxis(17:88, Axis(weight = ViewAxis(1:64, ShapedAxis((8, 8), NamedTuple())), bias = ViewAxis(65:72, ShapedAxis((8, 1), NamedTuple())))), layer_3 = ViewAxis(89:160, Axis(weight = ViewAxis(1:64, ShapedAxis((8, 8), NamedTuple())), bias = ViewAxis(65:72, ShapedAxis((8, 1), NamedTuple())))), layer_4 = ViewAxis(161:169, Axis(weight = ViewAxis(1:8, ShapedAxis((1, 8), NamedTuple())), bias = ViewAxis(9:9, ShapedAxis((1, 1), NamedTuple())))))), E_2 = ViewAxis(1184:1352, Axis(layer_1 = ViewAxis(1:16, Axis(weight = ViewAxis(1:8, ShapedAxis((8, 1), NamedTuple())), bias = ViewAxis(9:16, ShapedAxis((8, 1), NamedTuple())))), layer_2 = ViewAxis(17:88, Axis(weight = ViewAxis(1:64, ShapedAxis((8, 8), NamedTuple())), bias = ViewAxis(65:72, ShapedAxis((8, 1), NamedTuple())))), layer_3 = ViewAxis(89:160, Axis(weight = ViewAxis(1:64, ShapedAxis((8, 8), NamedTuple())), bias = ViewAxis(65:72, ShapedAxis((8, 1), NamedTuple())))), layer_4 = ViewAxis(161:169, Axis(weight = ViewAxis(1:8, ShapedAxis((1, 8), NamedTuple())), bias = ViewAxis(9:9, ShapedAxis((1, 1), NamedTuple())))))))}}}; kw::Base.Pairs{Symbol, Vector{Float64}, Tuple{Symbol}, NamedTuple{(:init,), Tuple{Vector{Float64}}}})",
      "    @ Base .\\reducedim.jl:406",
      "  [8] pushcat!(a::Vector{Float64}, b::ComponentVector{Float64, CuArray{Float64, 1, CUDA.Mem.DeviceBuffer}, Tuple{Axis{(T_1 = ViewAxis(1:169, Axis(layer_1 = ViewAxis(1:16, Axis(weight = ViewAxis(1:8, ShapedAxis((8, 1), NamedTuple())), bias = ViewAxis(9:16, ShapedAxis((8, 1), NamedTuple())))), layer_2 = ViewAxis(17:88, Axis(weight = ViewAxis(1:64, ShapedAxis((8, 8), NamedTuple())), bias = ViewAxis(65:72, ShapedAxis((8, 1), NamedTuple())))), layer_3 = ViewAxis(89:160, Axis(weight = ViewAxis(1:64, ShapedAxis((8, 8), NamedTuple())), bias = ViewAxis(65:72, ShapedAxis((8, 1), NamedTuple())))), layer_4 = ViewAxis(161:169, Axis(weight = ViewAxis(1:8, ShapedAxis((1, 8), NamedTuple())), bias = ViewAxis(9:9, ShapedAxis((1, 1), NamedTuple())))))), Ts_1 = ViewAxis(170:338, Axis(layer_1 = ViewAxis(1:16, Axis(weight = ViewAxis(1:8, ShapedAxis((8, 1), NamedTuple())), bias = ViewAxis(9:16, ShapedAxis((8, 1), NamedTuple())))), layer_2 = ViewAxis(17:88, Axis(weight = ViewAxis(1:64, ShapedAxis((8, 8), NamedTuple())), bias = ViewAxis(65:72, ShapedAxis((8, 1), NamedTuple())))), layer_3 = ViewAxis(89:160, Axis(weight = ViewAxis(1:64, ShapedAxis((8, 8), NamedTuple())), bias = ViewAxis(65:72, ShapedAxis((8, 1), NamedTuple())))), layer_4 = ViewAxis(161:169, Axis(weight = ViewAxis(1:8, ShapedAxis((1, 8), NamedTuple())), bias = ViewAxis(9:9, ShapedAxis((1, 1), NamedTuple())))))), T_2 = ViewAxis(339:507, Axis(layer_1 = ViewAxis(1:16, Axis(weight = ViewAxis(1:8, ShapedAxis((8, 1), NamedTuple())), bias = ViewAxis(9:16, ShapedAxis((8, 1), NamedTuple())))), layer_2 = ViewAxis(17:88, Axis(weight = ViewAxis(1:64, ShapedAxis((8, 8), NamedTuple())), bias = ViewAxis(65:72, ShapedAxis((8, 1), NamedTuple())))), layer_3 = ViewAxis(89:160, Axis(weight = ViewAxis(1:64, ShapedAxis((8, 8), NamedTuple())), bias = ViewAxis(65:72, ShapedAxis((8, 1), NamedTuple())))), layer_4 = ViewAxis(161:169, Axis(weight = ViewAxis(1:8, ShapedAxis((1, 8), NamedTuple())), bias = ViewAxis(9:9, ShapedAxis((1, 1), NamedTuple())))))), Ts_2 = ViewAxis(508:676, Axis(layer_1 = ViewAxis(1:16, Axis(weight = ViewAxis(1:8, ShapedAxis((8, 1), NamedTuple())), bias = ViewAxis(9:16, ShapedAxis((8, 1), NamedTuple())))), layer_2 = ViewAxis(17:88, Axis(weight = ViewAxis(1:64, ShapedAxis((8, 8), NamedTuple())), bias = ViewAxis(65:72, ShapedAxis((8, 1), NamedTuple())))), layer_3 = ViewAxis(89:160, Axis(weight = ViewAxis(1:64, ShapedAxis((8, 8), NamedTuple())), bias = ViewAxis(65:72, ShapedAxis((8, 1), NamedTuple())))), layer_4 = ViewAxis(161:169, Axis(weight = ViewAxis(1:8, ShapedAxis((1, 8), NamedTuple())), bias = ViewAxis(9:9, ShapedAxis((1, 1), NamedTuple())))))), V_1 = ViewAxis(677:845, Axis(layer_1 = ViewAxis(1:16, Axis(weight = ViewAxis(1:8, ShapedAxis((8, 1), NamedTuple())), bias = ViewAxis(9:16, ShapedAxis((8, 1), NamedTuple())))), layer_2 = ViewAxis(17:88, Axis(weight = ViewAxis(1:64, ShapedAxis((8, 8), NamedTuple())), bias = ViewAxis(65:72, ShapedAxis((8, 1), NamedTuple())))), layer_3 = ViewAxis(89:160, Axis(weight = ViewAxis(1:64, ShapedAxis((8, 8), NamedTuple())), bias = ViewAxis(65:72, ShapedAxis((8, 1), NamedTuple())))), layer_4 = ViewAxis(161:169, Axis(weight = ViewAxis(1:8, ShapedAxis((1, 8), NamedTuple())), bias = ViewAxis(9:9, ShapedAxis((1, 1), NamedTuple())))))), V_2 = ViewAxis(846:1014, Axis(layer_1 = ViewAxis(1:16, Axis(weight = ViewAxis(1:8, ShapedAxis((8, 1), NamedTuple())), bias = ViewAxis(9:16, ShapedAxis((8, 1), NamedTuple())))), layer_2 = ViewAxis(17:88, Axis(weight = ViewAxis(1:64, ShapedAxis((8, 8), NamedTuple())), bias = ViewAxis(65:72, ShapedAxis((8, 1), NamedTuple())))), layer_3 = ViewAxis(89:160, Axis(weight = ViewAxis(1:64, ShapedAxis((8, 8), NamedTuple())), bias = ViewAxis(65:72, ShapedAxis((8, 1), NamedTuple())))), layer_4 = ViewAxis(161:169, Axis(weight = ViewAxis(1:8, ShapedAxis((1, 8), NamedTuple())), bias = ViewAxis(9:9, ShapedAxis((1, 1), NamedTuple())))))), E_1 = ViewAxis(1015:1183, Axis(layer_1 = ViewAxis(1:16, Axis(weight = ViewAxis(1:8, ShapedAxis((8, 1), NamedTuple())), bias = ViewAxis(9:16, ShapedAxis((8, 1), NamedTuple())))), layer_2 = ViewAxis(17:88, Axis(weight = ViewAxis(1:64, ShapedAxis((8, 8), NamedTuple())), bias = ViewAxis(65:72, ShapedAxis((8, 1), NamedTuple())))), layer_3 = ViewAxis(89:160, Axis(weight = ViewAxis(1:64, ShapedAxis((8, 8), NamedTuple())), bias = ViewAxis(65:72, ShapedAxis((8, 1), NamedTuple())))), layer_4 = ViewAxis(161:169, Axis(weight = ViewAxis(1:8, ShapedAxis((1, 8), NamedTuple())), bias = ViewAxis(9:9, ShapedAxis((1, 1), NamedTuple())))))), E_2 = ViewAxis(1184:1352, Axis(layer_1 = ViewAxis(1:16, Axis(weight = ViewAxis(1:8, ShapedAxis((8, 1), NamedTuple())), bias = ViewAxis(9:16, ShapedAxis((8, 1), NamedTuple())))), layer_2 = ViewAxis(17:88, Axis(weight = ViewAxis(1:64, ShapedAxis((8, 8), NamedTuple())), bias = ViewAxis(65:72, ShapedAxis((8, 1), NamedTuple())))), layer_3 = ViewAxis(89:160, Axis(weight = ViewAxis(1:64, ShapedAxis((8, 8), NamedTuple())), bias = ViewAxis(65:72, ShapedAxis((8, 1), NamedTuple())))), layer_4 = ViewAxis(161:169, Axis(weight = ViewAxis(1:8, ShapedAxis((1, 8), NamedTuple())), bias = ViewAxis(9:9, ShapedAxis((1, 1), NamedTuple())))))))}}})",
      "    @ ComponentArrays C:\\Users\\Pavel\\.julia\\packages\\ComponentArrays\\YyD7i\\src\\componentarray.jl:224",
      "  [9] make_idx(data::Vector{Float64}, x::ComponentVector{Float64, CuArray{Float64, 1, CUDA.Mem.DeviceBuffer}, Tuple{Axis{(T_1 = ViewAxis(1:169, Axis(layer_1 = ViewAxis(1:16, Axis(weight = ViewAxis(1:8, ShapedAxis((8, 1), NamedTuple())), bias = ViewAxis(9:16, ShapedAxis((8, 1), NamedTuple())))), layer_2 = ViewAxis(17:88, Axis(weight = ViewAxis(1:64, ShapedAxis((8, 8), NamedTuple())), bias = ViewAxis(65:72, ShapedAxis((8, 1), NamedTuple())))), layer_3 = ViewAxis(89:160, Axis(weight = ViewAxis(1:64, ShapedAxis((8, 8), NamedTuple())), bias = ViewAxis(65:72, ShapedAxis((8, 1), NamedTuple())))), layer_4 = ViewAxis(161:169, Axis(weight = ViewAxis(1:8, ShapedAxis((1, 8), NamedTuple())), bias = ViewAxis(9:9, ShapedAxis((1, 1), NamedTuple())))))), Ts_1 = ViewAxis(170:338, Axis(layer_1 = ViewAxis(1:16, Axis(weight = ViewAxis(1:8, ShapedAxis((8, 1), NamedTuple())), bias = ViewAxis(9:16, ShapedAxis((8, 1), NamedTuple())))), layer_2 = ViewAxis(17:88, Axis(weight = ViewAxis(1:64, ShapedAxis((8, 8), NamedTuple())), bias = ViewAxis(65:72, ShapedAxis((8, 1), NamedTuple())))), layer_3 = ViewAxis(89:160, Axis(weight = ViewAxis(1:64, ShapedAxis((8, 8), NamedTuple())), bias = ViewAxis(65:72, ShapedAxis((8, 1), NamedTuple())))), layer_4 = ViewAxis(161:169, Axis(weight = ViewAxis(1:8, ShapedAxis((1, 8), NamedTuple())), bias = ViewAxis(9:9, ShapedAxis((1, 1), NamedTuple())))))), T_2 = ViewAxis(339:507, Axis(layer_1 = ViewAxis(1:16, Axis(weight = ViewAxis(1:8, ShapedAxis((8, 1), NamedTuple())), bias = ViewAxis(9:16, ShapedAxis((8, 1), NamedTuple())))), layer_2 = ViewAxis(17:88, Axis(weight = ViewAxis(1:64, ShapedAxis((8, 8), NamedTuple())), bias = ViewAxis(65:72, ShapedAxis((8, 1), NamedTuple())))), layer_3 = ViewAxis(89:160, Axis(weight = ViewAxis(1:64, ShapedAxis((8, 8), NamedTuple())), bias = ViewAxis(65:72, ShapedAxis((8, 1), NamedTuple())))), layer_4 = ViewAxis(161:169, Axis(weight = ViewAxis(1:8, ShapedAxis((1, 8), NamedTuple())), bias = ViewAxis(9:9, ShapedAxis((1, 1), NamedTuple())))))), Ts_2 = ViewAxis(508:676, Axis(layer_1 = ViewAxis(1:16, Axis(weight = ViewAxis(1:8, ShapedAxis((8, 1), NamedTuple())), bias = ViewAxis(9:16, ShapedAxis((8, 1), NamedTuple())))), layer_2 = ViewAxis(17:88, Axis(weight = ViewAxis(1:64, ShapedAxis((8, 8), NamedTuple())), bias = ViewAxis(65:72, ShapedAxis((8, 1), NamedTuple())))), layer_3 = ViewAxis(89:160, Axis(weight = ViewAxis(1:64, ShapedAxis((8, 8), NamedTuple())), bias = ViewAxis(65:72, ShapedAxis((8, 1), NamedTuple())))), layer_4 = ViewAxis(161:169, Axis(weight = ViewAxis(1:8, ShapedAxis((1, 8), NamedTuple())), bias = ViewAxis(9:9, ShapedAxis((1, 1), NamedTuple())))))), V_1 = ViewAxis(677:845, Axis(layer_1 = ViewAxis(1:16, Axis(weight = ViewAxis(1:8, ShapedAxis((8, 1), NamedTuple())), bias = ViewAxis(9:16, ShapedAxis((8, 1), NamedTuple())))), layer_2 = ViewAxis(17:88, Axis(weight = ViewAxis(1:64, ShapedAxis((8, 8), NamedTuple())), bias = ViewAxis(65:72, ShapedAxis((8, 1), NamedTuple())))), layer_3 = ViewAxis(89:160, Axis(weight = ViewAxis(1:64, ShapedAxis((8, 8), NamedTuple())), bias = ViewAxis(65:72, ShapedAxis((8, 1), NamedTuple())))), layer_4 = ViewAxis(161:169, Axis(weight = ViewAxis(1:8, ShapedAxis((1, 8), NamedTuple())), bias = ViewAxis(9:9, ShapedAxis((1, 1), NamedTuple())))))), V_2 = ViewAxis(846:1014, Axis(layer_1 = ViewAxis(1:16, Axis(weight = ViewAxis(1:8, ShapedAxis((8, 1), NamedTuple())), bias = ViewAxis(9:16, ShapedAxis((8, 1), NamedTuple())))), layer_2 = ViewAxis(17:88, Axis(weight = ViewAxis(1:64, ShapedAxis((8, 8), NamedTuple())), bias = ViewAxis(65:72, ShapedAxis((8, 1), NamedTuple())))), layer_3 = ViewAxis(89:160, Axis(weight = ViewAxis(1:64, ShapedAxis((8, 8), NamedTuple())), bias = ViewAxis(65:72, ShapedAxis((8, 1), NamedTuple())))), layer_4 = ViewAxis(161:169, Axis(weight = ViewAxis(1:8, ShapedAxis((1, 8), NamedTuple())), bias = ViewAxis(9:9, ShapedAxis((1, 1), NamedTuple())))))), E_1 = ViewAxis(1015:1183, Axis(layer_1 = ViewAxis(1:16, Axis(weight = ViewAxis(1:8, ShapedAxis((8, 1), NamedTuple())), bias = ViewAxis(9:16, ShapedAxis((8, 1), NamedTuple())))), layer_2 = ViewAxis(17:88, Axis(weight = ViewAxis(1:64, ShapedAxis((8, 8), NamedTuple())), bias = ViewAxis(65:72, ShapedAxis((8, 1), NamedTuple())))), layer_3 = ViewAxis(89:160, Axis(weight = ViewAxis(1:64, ShapedAxis((8, 8), NamedTuple())), bias = ViewAxis(65:72, ShapedAxis((8, 1), NamedTuple())))), layer_4 = ViewAxis(161:169, Axis(weight = ViewAxis(1:8, ShapedAxis((1, 8), NamedTuple())), bias = ViewAxis(9:9, ShapedAxis((1, 1), NamedTuple())))))), E_2 = ViewAxis(1184:1352, Axis(layer_1 = ViewAxis(1:16, Axis(weight = ViewAxis(1:8, ShapedAxis((8, 1), NamedTuple())), bias = ViewAxis(9:16, ShapedAxis((8, 1), NamedTuple())))), layer_2 = ViewAxis(17:88, Axis(weight = ViewAxis(1:64, ShapedAxis((8, 8), NamedTuple())), bias = ViewAxis(65:72, ShapedAxis((8, 1), NamedTuple())))), layer_3 = ViewAxis(89:160, Axis(weight = ViewAxis(1:64, ShapedAxis((8, 8), NamedTuple())), bias = ViewAxis(65:72, ShapedAxis((8, 1), NamedTuple())))), layer_4 = ViewAxis(161:169, Axis(weight = ViewAxis(1:8, ShapedAxis((1, 8), NamedTuple())), bias = ViewAxis(9:9, ShapedAxis((1, 1), NamedTuple())))))))}}}, last_val::Int64)",
      "    @ ComponentArrays C:\\Users\\Pavel\\.julia\\packages\\ComponentArrays\\YyD7i\\src\\componentarray.jl:171",
      " [10] make_idx(data::Vector{Float64}, nt::NamedTuple{(:depvar, :p), Tuple{ComponentVector{Float64, CuArray{Float64, 1, CUDA.Mem.DeviceBuffer}, Tuple{Axis{(T_1 = ViewAxis(1:169, Axis(layer_1 = ViewAxis(1:16, Axis(weight = ViewAxis(1:8, ShapedAxis((8, 1), NamedTuple())), bias = ViewAxis(9:16, ShapedAxis((8, 1), NamedTuple())))), layer_2 = ViewAxis(17:88, Axis(weight = ViewAxis(1:64, ShapedAxis((8, 8), NamedTuple())), bias = ViewAxis(65:72, ShapedAxis((8, 1), NamedTuple())))), layer_3 = ViewAxis(89:160, Axis(weight = ViewAxis(1:64, ShapedAxis((8, 8), NamedTuple())), bias = ViewAxis(65:72, ShapedAxis((8, 1), NamedTuple())))), layer_4 = ViewAxis(161:169, Axis(weight = ViewAxis(1:8, ShapedAxis((1, 8), NamedTuple())), bias = ViewAxis(9:9, ShapedAxis((1, 1), NamedTuple())))))), Ts_1 = ViewAxis(170:338, Axis(layer_1 = ViewAxis(1:16, Axis(weight = ViewAxis(1:8, ShapedAxis((8, 1), NamedTuple())), bias = ViewAxis(9:16, ShapedAxis((8, 1), NamedTuple())))), layer_2 = ViewAxis(17:88, Axis(weight = ViewAxis(1:64, ShapedAxis((8, 8), NamedTuple())), bias = ViewAxis(65:72, ShapedAxis((8, 1), NamedTuple())))), layer_3 = ViewAxis(89:160, Axis(weight = ViewAxis(1:64, ShapedAxis((8, 8), NamedTuple())), bias = ViewAxis(65:72, ShapedAxis((8, 1), NamedTuple())))), layer_4 = ViewAxis(161:169, Axis(weight = ViewAxis(1:8, ShapedAxis((1, 8), NamedTuple())), bias = ViewAxis(9:9, ShapedAxis((1, 1), NamedTuple())))))), T_2 = ViewAxis(339:507, Axis(layer_1 = ViewAxis(1:16, Axis(weight = ViewAxis(1:8, ShapedAxis((8, 1), NamedTuple())), bias = ViewAxis(9:16, ShapedAxis((8, 1), NamedTuple())))), layer_2 = ViewAxis(17:88, Axis(weight = ViewAxis(1:64, ShapedAxis((8, 8), NamedTuple())), bias = ViewAxis(65:72, ShapedAxis((8, 1), NamedTuple())))), layer_3 = ViewAxis(89:160, Axis(weight = ViewAxis(1:64, ShapedAxis((8, 8), NamedTuple())), bias = ViewAxis(65:72, ShapedAxis((8, 1), NamedTuple())))), layer_4 = ViewAxis(161:169, Axis(weight = ViewAxis(1:8, ShapedAxis((1, 8), NamedTuple())), bias = ViewAxis(9:9, ShapedAxis((1, 1), NamedTuple())))))), Ts_2 = ViewAxis(508:676, Axis(layer_1 = ViewAxis(1:16, Axis(weight = ViewAxis(1:8, ShapedAxis((8, 1), NamedTuple())), bias = ViewAxis(9:16, ShapedAxis((8, 1), NamedTuple())))), layer_2 = ViewAxis(17:88, Axis(weight = ViewAxis(1:64, ShapedAxis((8, 8), NamedTuple())), bias = ViewAxis(65:72, ShapedAxis((8, 1), NamedTuple())))), layer_3 = ViewAxis(89:160, Axis(weight = ViewAxis(1:64, ShapedAxis((8, 8), NamedTuple())), bias = ViewAxis(65:72, ShapedAxis((8, 1), NamedTuple())))), layer_4 = ViewAxis(161:169, Axis(weight = ViewAxis(1:8, ShapedAxis((1, 8), NamedTuple())), bias = ViewAxis(9:9, ShapedAxis((1, 1), NamedTuple())))))), V_1 = ViewAxis(677:845, Axis(layer_1 = ViewAxis(1:16, Axis(weight = ViewAxis(1:8, ShapedAxis((8, 1), NamedTuple())), bias = ViewAxis(9:16, ShapedAxis((8, 1), NamedTuple())))), layer_2 = ViewAxis(17:88, Axis(weight = ViewAxis(1:64, ShapedAxis((8, 8), NamedTuple())), bias = ViewAxis(65:72, ShapedAxis((8, 1), NamedTuple())))), layer_3 = ViewAxis(89:160, Axis(weight = ViewAxis(1:64, ShapedAxis((8, 8), NamedTuple())), bias = ViewAxis(65:72, ShapedAxis((8, 1), NamedTuple())))), layer_4 = ViewAxis(161:169, Axis(weight = ViewAxis(1:8, ShapedAxis((1, 8), NamedTuple())), bias = ViewAxis(9:9, ShapedAxis((1, 1), NamedTuple())))))), V_2 = ViewAxis(846:1014, Axis(layer_1 = ViewAxis(1:16, Axis(weight = ViewAxis(1:8, ShapedAxis((8, 1), NamedTuple())), bias = ViewAxis(9:16, ShapedAxis((8, 1), NamedTuple())))), layer_2 = ViewAxis(17:88, Axis(weight = ViewAxis(1:64, ShapedAxis((8, 8), NamedTuple())), bias = ViewAxis(65:72, ShapedAxis((8, 1), NamedTuple())))), layer_3 = ViewAxis(89:160, Axis(weight = ViewAxis(1:64, ShapedAxis((8, 8), NamedTuple())), bias = ViewAxis(65:72, ShapedAxis((8, 1), NamedTuple())))), layer_4 = ViewAxis(161:169, Axis(weight = ViewAxis(1:8, ShapedAxis((1, 8), NamedTuple())), bias = ViewAxis(9:9, ShapedAxis((1, 1), NamedTuple())))))), E_1 = ViewAxis(1015:1183, Axis(layer_1 = ViewAxis(1:16, Axis(weight = ViewAxis(1:8, ShapedAxis((8, 1), NamedTuple())), bias = ViewAxis(9:16, ShapedAxis((8, 1), NamedTuple())))), layer_2 = ViewAxis(17:88, Axis(weight = ViewAxis(1:64, ShapedAxis((8, 8), NamedTuple())), bias = ViewAxis(65:72, ShapedAxis((8, 1), NamedTuple())))), layer_3 = ViewAxis(89:160, Axis(weight = ViewAxis(1:64, ShapedAxis((8, 8), NamedTuple())), bias = ViewAxis(65:72, ShapedAxis((8, 1), NamedTuple())))), layer_4 = ViewAxis(161:169, Axis(weight = ViewAxis(1:8, ShapedAxis((1, 8), NamedTuple())), bias = ViewAxis(9:9, ShapedAxis((1, 1), NamedTuple())))))), E_2 = ViewAxis(1184:1352, Axis(layer_1 = ViewAxis(1:16, Axis(weight = ViewAxis(1:8, ShapedAxis((8, 1), NamedTuple())), bias = ViewAxis(9:16, ShapedAxis((8, 1), NamedTuple())))), layer_2 = ViewAxis(17:88, Axis(weight = ViewAxis(1:64, ShapedAxis((8, 8), NamedTuple())), bias = ViewAxis(65:72, ShapedAxis((8, 1), NamedTuple())))), layer_3 = ViewAxis(89:160, Axis(weight = ViewAxis(1:64, ShapedAxis((8, 8), NamedTuple())), bias = ViewAxis(65:72, ShapedAxis((8, 1), NamedTuple())))), layer_4 = ViewAxis(161:169, Axis(weight = ViewAxis(1:8, ShapedAxis((1, 8), NamedTuple())), bias = ViewAxis(9:9, ShapedAxis((1, 1), NamedTuple())))))))}}}, Vector{Float64}}}, last_val::Int64)",
      "    @ ComponentArrays C:\\Users\\Pavel\\.julia\\packages\\ComponentArrays\\YyD7i\\src\\componentarray.jl:157",
      " [11] make_carray_args(A::Type{Vector}, nt::NamedTuple{(:depvar, :p), Tuple{ComponentVector{Float64, CuArray{Float64, 1, CUDA.Mem.DeviceBuffer}, Tuple{Axis{(T_1 = ViewAxis(1:169, Axis(layer_1 = ViewAxis(1:16, Axis(weight = ViewAxis(1:8, ShapedAxis((8, 1), NamedTuple())), bias = ViewAxis(9:16, ShapedAxis((8, 1), NamedTuple())))), layer_2 = ViewAxis(17:88, Axis(weight = ViewAxis(1:64, ShapedAxis((8, 8), NamedTuple())), bias = ViewAxis(65:72, ShapedAxis((8, 1), NamedTuple())))), layer_3 = ViewAxis(89:160, Axis(weight = ViewAxis(1:64, ShapedAxis((8, 8), NamedTuple())), bias = ViewAxis(65:72, ShapedAxis((8, 1), NamedTuple())))), layer_4 = ViewAxis(161:169, Axis(weight = ViewAxis(1:8, ShapedAxis((1, 8), NamedTuple())), bias = ViewAxis(9:9, ShapedAxis((1, 1), NamedTuple())))))), Ts_1 = ViewAxis(170:338, Axis(layer_1 = ViewAxis(1:16, Axis(weight = ViewAxis(1:8, ShapedAxis((8, 1), NamedTuple())), bias = ViewAxis(9:16, ShapedAxis((8, 1), NamedTuple())))), layer_2 = ViewAxis(17:88, Axis(weight = ViewAxis(1:64, ShapedAxis((8, 8), NamedTuple())), bias = ViewAxis(65:72, ShapedAxis((8, 1), NamedTuple())))), layer_3 = ViewAxis(89:160, Axis(weight = ViewAxis(1:64, ShapedAxis((8, 8), NamedTuple())), bias = ViewAxis(65:72, ShapedAxis((8, 1), NamedTuple())))), layer_4 = ViewAxis(161:169, Axis(weight = ViewAxis(1:8, ShapedAxis((1, 8), NamedTuple())), bias = ViewAxis(9:9, ShapedAxis((1, 1), NamedTuple())))))), T_2 = ViewAxis(339:507, Axis(layer_1 = ViewAxis(1:16, Axis(weight = ViewAxis(1:8, ShapedAxis((8, 1), NamedTuple())), bias = ViewAxis(9:16, ShapedAxis((8, 1), NamedTuple())))), layer_2 = ViewAxis(17:88, Axis(weight = ViewAxis(1:64, ShapedAxis((8, 8), NamedTuple())), bias = ViewAxis(65:72, ShapedAxis((8, 1), NamedTuple())))), layer_3 = ViewAxis(89:160, Axis(weight = ViewAxis(1:64, ShapedAxis((8, 8), NamedTuple())), bias = ViewAxis(65:72, ShapedAxis((8, 1), NamedTuple())))), layer_4 = ViewAxis(161:169, Axis(weight = ViewAxis(1:8, ShapedAxis((1, 8), NamedTuple())), bias = ViewAxis(9:9, ShapedAxis((1, 1), NamedTuple())))))), Ts_2 = ViewAxis(508:676, Axis(layer_1 = ViewAxis(1:16, Axis(weight = ViewAxis(1:8, ShapedAxis((8, 1), NamedTuple())), bias = ViewAxis(9:16, ShapedAxis((8, 1), NamedTuple())))), layer_2 = ViewAxis(17:88, Axis(weight = ViewAxis(1:64, ShapedAxis((8, 8), NamedTuple())), bias = ViewAxis(65:72, ShapedAxis((8, 1), NamedTuple())))), layer_3 = ViewAxis(89:160, Axis(weight = ViewAxis(1:64, ShapedAxis((8, 8), NamedTuple())), bias = ViewAxis(65:72, ShapedAxis((8, 1), NamedTuple())))), layer_4 = ViewAxis(161:169, Axis(weight = ViewAxis(1:8, ShapedAxis((1, 8), NamedTuple())), bias = ViewAxis(9:9, ShapedAxis((1, 1), NamedTuple())))))), V_1 = ViewAxis(677:845, Axis(layer_1 = ViewAxis(1:16, Axis(weight = ViewAxis(1:8, ShapedAxis((8, 1), NamedTuple())), bias = ViewAxis(9:16, ShapedAxis((8, 1), NamedTuple())))), layer_2 = ViewAxis(17:88, Axis(weight = ViewAxis(1:64, ShapedAxis((8, 8), NamedTuple())), bias = ViewAxis(65:72, ShapedAxis((8, 1), NamedTuple())))), layer_3 = ViewAxis(89:160, Axis(weight = ViewAxis(1:64, ShapedAxis((8, 8), NamedTuple())), bias = ViewAxis(65:72, ShapedAxis((8, 1), NamedTuple())))), layer_4 = ViewAxis(161:169, Axis(weight = ViewAxis(1:8, ShapedAxis((1, 8), NamedTuple())), bias = ViewAxis(9:9, ShapedAxis((1, 1), NamedTuple())))))), V_2 = ViewAxis(846:1014, Axis(layer_1 = ViewAxis(1:16, Axis(weight = ViewAxis(1:8, ShapedAxis((8, 1), NamedTuple())), bias = ViewAxis(9:16, ShapedAxis((8, 1), NamedTuple())))), layer_2 = ViewAxis(17:88, Axis(weight = ViewAxis(1:64, ShapedAxis((8, 8), NamedTuple())), bias = ViewAxis(65:72, ShapedAxis((8, 1), NamedTuple())))), layer_3 = ViewAxis(89:160, Axis(weight = ViewAxis(1:64, ShapedAxis((8, 8), NamedTuple())), bias = ViewAxis(65:72, ShapedAxis((8, 1), NamedTuple())))), layer_4 = ViewAxis(161:169, Axis(weight = ViewAxis(1:8, ShapedAxis((1, 8), NamedTuple())), bias = ViewAxis(9:9, ShapedAxis((1, 1), NamedTuple())))))), E_1 = ViewAxis(1015:1183, Axis(layer_1 = ViewAxis(1:16, Axis(weight = ViewAxis(1:8, ShapedAxis((8, 1), NamedTuple())), bias = ViewAxis(9:16, ShapedAxis((8, 1), NamedTuple())))), layer_2 = ViewAxis(17:88, Axis(weight = ViewAxis(1:64, ShapedAxis((8, 8), NamedTuple())), bias = ViewAxis(65:72, ShapedAxis((8, 1), NamedTuple())))), layer_3 = ViewAxis(89:160, Axis(weight = ViewAxis(1:64, ShapedAxis((8, 8), NamedTuple())), bias = ViewAxis(65:72, ShapedAxis((8, 1), NamedTuple())))), layer_4 = ViewAxis(161:169, Axis(weight = ViewAxis(1:8, ShapedAxis((1, 8), NamedTuple())), bias = ViewAxis(9:9, ShapedAxis((1, 1), NamedTuple())))))), E_2 = ViewAxis(1184:1352, Axis(layer_1 = ViewAxis(1:16, Axis(weight = ViewAxis(1:8, ShapedAxis((8, 1), NamedTuple())), bias = ViewAxis(9:16, ShapedAxis((8, 1), NamedTuple())))), layer_2 = ViewAxis(17:88, Axis(weight = ViewAxis(1:64, ShapedAxis((8, 8), NamedTuple())), bias = ViewAxis(65:72, ShapedAxis((8, 1), NamedTuple())))), layer_3 = ViewAxis(89:160, Axis(weight = ViewAxis(1:64, ShapedAxis((8, 8), NamedTuple())), bias = ViewAxis(65:72, ShapedAxis((8, 1), NamedTuple())))), layer_4 = ViewAxis(161:169, Axis(weight = ViewAxis(1:8, ShapedAxis((1, 8), NamedTuple())), bias = ViewAxis(9:9, ShapedAxis((1, 1), NamedTuple())))))))}}}, Vector{Float64}}})",
      "    @ ComponentArrays C:\\Users\\Pavel\\.julia\\packages\\ComponentArrays\\YyD7i\\src\\componentarray.jl:147",
      " [12] make_carray_args(nt::NamedTuple{(:depvar, :p), Tuple{ComponentVector{Float64, CuArray{Float64, 1, CUDA.Mem.DeviceBuffer}, Tuple{Axis{(T_1 = ViewAxis(1:169, Axis(layer_1 = ViewAxis(1:16, Axis(weight = ViewAxis(1:8, ShapedAxis((8, 1), NamedTuple())), bias = ViewAxis(9:16, ShapedAxis((8, 1), NamedTuple())))), layer_2 = ViewAxis(17:88, Axis(weight = ViewAxis(1:64, ShapedAxis((8, 8), NamedTuple())), bias = ViewAxis(65:72, ShapedAxis((8, 1), NamedTuple())))), layer_3 = ViewAxis(89:160, Axis(weight = ViewAxis(1:64, ShapedAxis((8, 8), NamedTuple())), bias = ViewAxis(65:72, ShapedAxis((8, 1), NamedTuple())))), layer_4 = ViewAxis(161:169, Axis(weight = ViewAxis(1:8, ShapedAxis((1, 8), NamedTuple())), bias = ViewAxis(9:9, ShapedAxis((1, 1), NamedTuple())))))), Ts_1 = ViewAxis(170:338, Axis(layer_1 = ViewAxis(1:16, Axis(weight = ViewAxis(1:8, ShapedAxis((8, 1), NamedTuple())), bias = ViewAxis(9:16, ShapedAxis((8, 1), NamedTuple())))), layer_2 = ViewAxis(17:88, Axis(weight = ViewAxis(1:64, ShapedAxis((8, 8), NamedTuple())), bias = ViewAxis(65:72, ShapedAxis((8, 1), NamedTuple())))), layer_3 = ViewAxis(89:160, Axis(weight = ViewAxis(1:64, ShapedAxis((8, 8), NamedTuple())), bias = ViewAxis(65:72, ShapedAxis((8, 1), NamedTuple())))), layer_4 = ViewAxis(161:169, Axis(weight = ViewAxis(1:8, ShapedAxis((1, 8), NamedTuple())), bias = ViewAxis(9:9, ShapedAxis((1, 1), NamedTuple())))))), T_2 = ViewAxis(339:507, Axis(layer_1 = ViewAxis(1:16, Axis(weight = ViewAxis(1:8, ShapedAxis((8, 1), NamedTuple())), bias = ViewAxis(9:16, ShapedAxis((8, 1), NamedTuple())))), layer_2 = ViewAxis(17:88, Axis(weight = ViewAxis(1:64, ShapedAxis((8, 8), NamedTuple())), bias = ViewAxis(65:72, ShapedAxis((8, 1), NamedTuple())))), layer_3 = ViewAxis(89:160, Axis(weight = ViewAxis(1:64, ShapedAxis((8, 8), NamedTuple())), bias = ViewAxis(65:72, ShapedAxis((8, 1), NamedTuple())))), layer_4 = ViewAxis(161:169, Axis(weight = ViewAxis(1:8, ShapedAxis((1, 8), NamedTuple())), bias = ViewAxis(9:9, ShapedAxis((1, 1), NamedTuple())))))), Ts_2 = ViewAxis(508:676, Axis(layer_1 = ViewAxis(1:16, Axis(weight = ViewAxis(1:8, ShapedAxis((8, 1), NamedTuple())), bias = ViewAxis(9:16, ShapedAxis((8, 1), NamedTuple())))), layer_2 = ViewAxis(17:88, Axis(weight = ViewAxis(1:64, ShapedAxis((8, 8), NamedTuple())), bias = ViewAxis(65:72, ShapedAxis((8, 1), NamedTuple())))), layer_3 = ViewAxis(89:160, Axis(weight = ViewAxis(1:64, ShapedAxis((8, 8), NamedTuple())), bias = ViewAxis(65:72, ShapedAxis((8, 1), NamedTuple())))), layer_4 = ViewAxis(161:169, Axis(weight = ViewAxis(1:8, ShapedAxis((1, 8), NamedTuple())), bias = ViewAxis(9:9, ShapedAxis((1, 1), NamedTuple())))))), V_1 = ViewAxis(677:845, Axis(layer_1 = ViewAxis(1:16, Axis(weight = ViewAxis(1:8, ShapedAxis((8, 1), NamedTuple())), bias = ViewAxis(9:16, ShapedAxis((8, 1), NamedTuple())))), layer_2 = ViewAxis(17:88, Axis(weight = ViewAxis(1:64, ShapedAxis((8, 8), NamedTuple())), bias = ViewAxis(65:72, ShapedAxis((8, 1), NamedTuple())))), layer_3 = ViewAxis(89:160, Axis(weight = ViewAxis(1:64, ShapedAxis((8, 8), NamedTuple())), bias = ViewAxis(65:72, ShapedAxis((8, 1), NamedTuple())))), layer_4 = ViewAxis(161:169, Axis(weight = ViewAxis(1:8, ShapedAxis((1, 8), NamedTuple())), bias = ViewAxis(9:9, ShapedAxis((1, 1), NamedTuple())))))), V_2 = ViewAxis(846:1014, Axis(layer_1 = ViewAxis(1:16, Axis(weight = ViewAxis(1:8, ShapedAxis((8, 1), NamedTuple())), bias = ViewAxis(9:16, ShapedAxis((8, 1), NamedTuple())))), layer_2 = ViewAxis(17:88, Axis(weight = ViewAxis(1:64, ShapedAxis((8, 8), NamedTuple())), bias = ViewAxis(65:72, ShapedAxis((8, 1), NamedTuple())))), layer_3 = ViewAxis(89:160, Axis(weight = ViewAxis(1:64, ShapedAxis((8, 8), NamedTuple())), bias = ViewAxis(65:72, ShapedAxis((8, 1), NamedTuple())))), layer_4 = ViewAxis(161:169, Axis(weight = ViewAxis(1:8, ShapedAxis((1, 8), NamedTuple())), bias = ViewAxis(9:9, ShapedAxis((1, 1), NamedTuple())))))), E_1 = ViewAxis(1015:1183, Axis(layer_1 = ViewAxis(1:16, Axis(weight = ViewAxis(1:8, ShapedAxis((8, 1), NamedTuple())), bias = ViewAxis(9:16, ShapedAxis((8, 1), NamedTuple())))), layer_2 = ViewAxis(17:88, Axis(weight = ViewAxis(1:64, ShapedAxis((8, 8), NamedTuple())), bias = ViewAxis(65:72, ShapedAxis((8, 1), NamedTuple())))), layer_3 = ViewAxis(89:160, Axis(weight = ViewAxis(1:64, ShapedAxis((8, 8), NamedTuple())), bias = ViewAxis(65:72, ShapedAxis((8, 1), NamedTuple())))), layer_4 = ViewAxis(161:169, Axis(weight = ViewAxis(1:8, ShapedAxis((1, 8), NamedTuple())), bias = ViewAxis(9:9, ShapedAxis((1, 1), NamedTuple())))))), E_2 = ViewAxis(1184:1352, Axis(layer_1 = ViewAxis(1:16, Axis(weight = ViewAxis(1:8, ShapedAxis((8, 1), NamedTuple())), bias = ViewAxis(9:16, ShapedAxis((8, 1), NamedTuple())))), layer_2 = ViewAxis(17:88, Axis(weight = ViewAxis(1:64, ShapedAxis((8, 8), NamedTuple())), bias = ViewAxis(65:72, ShapedAxis((8, 1), NamedTuple())))), layer_3 = ViewAxis(89:160, Axis(weight = ViewAxis(1:64, ShapedAxis((8, 8), NamedTuple())), bias = ViewAxis(65:72, ShapedAxis((8, 1), NamedTuple())))), layer_4 = ViewAxis(161:169, Axis(weight = ViewAxis(1:8, ShapedAxis((1, 8), NamedTuple())), bias = ViewAxis(9:9, ShapedAxis((1, 1), NamedTuple())))))))}}}, Vector{Float64}}})",
      "    @ ComponentArrays C:\\Users\\Pavel\\.julia\\packages\\ComponentArrays\\YyD7i\\src\\componentarray.jl:139",
      " [13] ComponentArray(nt::NamedTuple{(:depvar, :p), Tuple{ComponentVector{Float64, CuArray{Float64, 1, CUDA.Mem.DeviceBuffer}, Tuple{Axis{(T_1 = ViewAxis(1:169, Axis(layer_1 = ViewAxis(1:16, Axis(weight = ViewAxis(1:8, ShapedAxis((8, 1), NamedTuple())), bias = ViewAxis(9:16, ShapedAxis((8, 1), NamedTuple())))), layer_2 = ViewAxis(17:88, Axis(weight = ViewAxis(1:64, ShapedAxis((8, 8), NamedTuple())), bias = ViewAxis(65:72, ShapedAxis((8, 1), NamedTuple())))), layer_3 = ViewAxis(89:160, Axis(weight = ViewAxis(1:64, ShapedAxis((8, 8), NamedTuple())), bias = ViewAxis(65:72, ShapedAxis((8, 1), NamedTuple())))), layer_4 = ViewAxis(161:169, Axis(weight = ViewAxis(1:8, ShapedAxis((1, 8), NamedTuple())), bias = ViewAxis(9:9, ShapedAxis((1, 1), NamedTuple())))))), Ts_1 = ViewAxis(170:338, Axis(layer_1 = ViewAxis(1:16, Axis(weight = ViewAxis(1:8, ShapedAxis((8, 1), NamedTuple())), bias = ViewAxis(9:16, ShapedAxis((8, 1), NamedTuple())))), layer_2 = ViewAxis(17:88, Axis(weight = ViewAxis(1:64, ShapedAxis((8, 8), NamedTuple())), bias = ViewAxis(65:72, ShapedAxis((8, 1), NamedTuple())))), layer_3 = ViewAxis(89:160, Axis(weight = ViewAxis(1:64, ShapedAxis((8, 8), NamedTuple())), bias = ViewAxis(65:72, ShapedAxis((8, 1), NamedTuple())))), layer_4 = ViewAxis(161:169, Axis(weight = ViewAxis(1:8, ShapedAxis((1, 8), NamedTuple())), bias = ViewAxis(9:9, ShapedAxis((1, 1), NamedTuple())))))), T_2 = ViewAxis(339:507, Axis(layer_1 = ViewAxis(1:16, Axis(weight = ViewAxis(1:8, ShapedAxis((8, 1), NamedTuple())), bias = ViewAxis(9:16, ShapedAxis((8, 1), NamedTuple())))), layer_2 = ViewAxis(17:88, Axis(weight = ViewAxis(1:64, ShapedAxis((8, 8), NamedTuple())), bias = ViewAxis(65:72, ShapedAxis((8, 1), NamedTuple())))), layer_3 = ViewAxis(89:160, Axis(weight = ViewAxis(1:64, ShapedAxis((8, 8), NamedTuple())), bias = ViewAxis(65:72, ShapedAxis((8, 1), NamedTuple())))), layer_4 = ViewAxis(161:169, Axis(weight = ViewAxis(1:8, ShapedAxis((1, 8), NamedTuple())), bias = ViewAxis(9:9, ShapedAxis((1, 1), NamedTuple())))))), Ts_2 = ViewAxis(508:676, Axis(layer_1 = ViewAxis(1:16, Axis(weight = ViewAxis(1:8, ShapedAxis((8, 1), NamedTuple())), bias = ViewAxis(9:16, ShapedAxis((8, 1), NamedTuple())))), layer_2 = ViewAxis(17:88, Axis(weight = ViewAxis(1:64, ShapedAxis((8, 8), NamedTuple())), bias = ViewAxis(65:72, ShapedAxis((8, 1), NamedTuple())))), layer_3 = ViewAxis(89:160, Axis(weight = ViewAxis(1:64, ShapedAxis((8, 8), NamedTuple())), bias = ViewAxis(65:72, ShapedAxis((8, 1), NamedTuple())))), layer_4 = ViewAxis(161:169, Axis(weight = ViewAxis(1:8, ShapedAxis((1, 8), NamedTuple())), bias = ViewAxis(9:9, ShapedAxis((1, 1), NamedTuple())))))), V_1 = ViewAxis(677:845, Axis(layer_1 = ViewAxis(1:16, Axis(weight = ViewAxis(1:8, ShapedAxis((8, 1), NamedTuple())), bias = ViewAxis(9:16, ShapedAxis((8, 1), NamedTuple())))), layer_2 = ViewAxis(17:88, Axis(weight = ViewAxis(1:64, ShapedAxis((8, 8), NamedTuple())), bias = ViewAxis(65:72, ShapedAxis((8, 1), NamedTuple())))), layer_3 = ViewAxis(89:160, Axis(weight = ViewAxis(1:64, ShapedAxis((8, 8), NamedTuple())), bias = ViewAxis(65:72, ShapedAxis((8, 1), NamedTuple())))), layer_4 = ViewAxis(161:169, Axis(weight = ViewAxis(1:8, ShapedAxis((1, 8), NamedTuple())), bias = ViewAxis(9:9, ShapedAxis((1, 1), NamedTuple())))))), V_2 = ViewAxis(846:1014, Axis(layer_1 = ViewAxis(1:16, Axis(weight = ViewAxis(1:8, ShapedAxis((8, 1), NamedTuple())), bias = ViewAxis(9:16, ShapedAxis((8, 1), NamedTuple())))), layer_2 = ViewAxis(17:88, Axis(weight = ViewAxis(1:64, ShapedAxis((8, 8), NamedTuple())), bias = ViewAxis(65:72, ShapedAxis((8, 1), NamedTuple())))), layer_3 = ViewAxis(89:160, Axis(weight = ViewAxis(1:64, ShapedAxis((8, 8), NamedTuple())), bias = ViewAxis(65:72, ShapedAxis((8, 1), NamedTuple())))), layer_4 = ViewAxis(161:169, Axis(weight = ViewAxis(1:8, ShapedAxis((1, 8), NamedTuple())), bias = ViewAxis(9:9, ShapedAxis((1, 1), NamedTuple())))))), E_1 = ViewAxis(1015:1183, Axis(layer_1 = ViewAxis(1:16, Axis(weight = ViewAxis(1:8, ShapedAxis((8, 1), NamedTuple())), bias = ViewAxis(9:16, ShapedAxis((8, 1), NamedTuple())))), layer_2 = ViewAxis(17:88, Axis(weight = ViewAxis(1:64, ShapedAxis((8, 8), NamedTuple())), bias = ViewAxis(65:72, ShapedAxis((8, 1), NamedTuple())))), layer_3 = ViewAxis(89:160, Axis(weight = ViewAxis(1:64, ShapedAxis((8, 8), NamedTuple())), bias = ViewAxis(65:72, ShapedAxis((8, 1), NamedTuple())))), layer_4 = ViewAxis(161:169, Axis(weight = ViewAxis(1:8, ShapedAxis((1, 8), NamedTuple())), bias = ViewAxis(9:9, ShapedAxis((1, 1), NamedTuple())))))), E_2 = ViewAxis(1184:1352, Axis(layer_1 = ViewAxis(1:16, Axis(weight = ViewAxis(1:8, ShapedAxis((8, 1), NamedTuple())), bias = ViewAxis(9:16, ShapedAxis((8, 1), NamedTuple())))), layer_2 = ViewAxis(17:88, Axis(weight = ViewAxis(1:64, ShapedAxis((8, 8), NamedTuple())), bias = ViewAxis(65:72, ShapedAxis((8, 1), NamedTuple())))), layer_3 = ViewAxis(89:160, Axis(weight = ViewAxis(1:64, ShapedAxis((8, 8), NamedTuple())), bias = ViewAxis(65:72, ShapedAxis((8, 1), NamedTuple())))), layer_4 = ViewAxis(161:169, Axis(weight = ViewAxis(1:8, ShapedAxis((1, 8), NamedTuple())), bias = ViewAxis(9:9, ShapedAxis((1, 1), NamedTuple())))))))}}}, Vector{Float64}}})",
      "    @ ComponentArrays C:\\Users\\Pavel\\.julia\\packages\\ComponentArrays\\YyD7i\\src\\componentarray.jl:63",
      " [14] ComponentArray(; kwargs::Base.Pairs{Symbol, DenseVector{Float64}, Tuple{Symbol, Symbol}, NamedTuple{(:depvar, :p), Tuple{ComponentVector{Float64, CuArray{Float64, 1, CUDA.Mem.DeviceBuffer}, Tuple{Axis{(T_1 = ViewAxis(1:169, Axis(layer_1 = ViewAxis(1:16, Axis(weight = ViewAxis(1:8, ShapedAxis((8, 1), NamedTuple())), bias = ViewAxis(9:16, ShapedAxis((8, 1), NamedTuple())))), layer_2 = ViewAxis(17:88, Axis(weight = ViewAxis(1:64, ShapedAxis((8, 8), NamedTuple())), bias = ViewAxis(65:72, ShapedAxis((8, 1), NamedTuple())))), layer_3 = ViewAxis(89:160, Axis(weight = ViewAxis(1:64, ShapedAxis((8, 8), NamedTuple())), bias = ViewAxis(65:72, ShapedAxis((8, 1), NamedTuple())))), layer_4 = ViewAxis(161:169, Axis(weight = ViewAxis(1:8, ShapedAxis((1, 8), NamedTuple())), bias = ViewAxis(9:9, ShapedAxis((1, 1), NamedTuple())))))), Ts_1 = ViewAxis(170:338, Axis(layer_1 = ViewAxis(1:16, Axis(weight = ViewAxis(1:8, ShapedAxis((8, 1), NamedTuple())), bias = ViewAxis(9:16, ShapedAxis((8, 1), NamedTuple())))), layer_2 = ViewAxis(17:88, Axis(weight = ViewAxis(1:64, ShapedAxis((8, 8), NamedTuple())), bias = ViewAxis(65:72, ShapedAxis((8, 1), NamedTuple())))), layer_3 = ViewAxis(89:160, Axis(weight = ViewAxis(1:64, ShapedAxis((8, 8), NamedTuple())), bias = ViewAxis(65:72, ShapedAxis((8, 1), NamedTuple())))), layer_4 = ViewAxis(161:169, Axis(weight = ViewAxis(1:8, ShapedAxis((1, 8), NamedTuple())), bias = ViewAxis(9:9, ShapedAxis((1, 1), NamedTuple())))))), T_2 = ViewAxis(339:507, Axis(layer_1 = ViewAxis(1:16, Axis(weight = ViewAxis(1:8, ShapedAxis((8, 1), NamedTuple())), bias = ViewAxis(9:16, ShapedAxis((8, 1), NamedTuple())))), layer_2 = ViewAxis(17:88, Axis(weight = ViewAxis(1:64, ShapedAxis((8, 8), NamedTuple())), bias = ViewAxis(65:72, ShapedAxis((8, 1), NamedTuple())))), layer_3 = ViewAxis(89:160, Axis(weight = ViewAxis(1:64, ShapedAxis((8, 8), NamedTuple())), bias = ViewAxis(65:72, ShapedAxis((8, 1), NamedTuple())))), layer_4 = ViewAxis(161:169, Axis(weight = ViewAxis(1:8, ShapedAxis((1, 8), NamedTuple())), bias = ViewAxis(9:9, ShapedAxis((1, 1), NamedTuple())))))), Ts_2 = ViewAxis(508:676, Axis(layer_1 = ViewAxis(1:16, Axis(weight = ViewAxis(1:8, ShapedAxis((8, 1), NamedTuple())), bias = ViewAxis(9:16, ShapedAxis((8, 1), NamedTuple())))), layer_2 = ViewAxis(17:88, Axis(weight = ViewAxis(1:64, ShapedAxis((8, 8), NamedTuple())), bias = ViewAxis(65:72, ShapedAxis((8, 1), NamedTuple())))), layer_3 = ViewAxis(89:160, Axis(weight = ViewAxis(1:64, ShapedAxis((8, 8), NamedTuple())), bias = ViewAxis(65:72, ShapedAxis((8, 1), NamedTuple())))), layer_4 = ViewAxis(161:169, Axis(weight = ViewAxis(1:8, ShapedAxis((1, 8), NamedTuple())), bias = ViewAxis(9:9, ShapedAxis((1, 1), NamedTuple())))))), V_1 = ViewAxis(677:845, Axis(layer_1 = ViewAxis(1:16, Axis(weight = ViewAxis(1:8, ShapedAxis((8, 1), NamedTuple())), bias = ViewAxis(9:16, ShapedAxis((8, 1), NamedTuple())))), layer_2 = ViewAxis(17:88, Axis(weight = ViewAxis(1:64, ShapedAxis((8, 8), NamedTuple())), bias = ViewAxis(65:72, ShapedAxis((8, 1), NamedTuple())))), layer_3 = ViewAxis(89:160, Axis(weight = ViewAxis(1:64, ShapedAxis((8, 8), NamedTuple())), bias = ViewAxis(65:72, ShapedAxis((8, 1), NamedTuple())))), layer_4 = ViewAxis(161:169, Axis(weight = ViewAxis(1:8, ShapedAxis((1, 8), NamedTuple())), bias = ViewAxis(9:9, ShapedAxis((1, 1), NamedTuple())))))), V_2 = ViewAxis(846:1014, Axis(layer_1 = ViewAxis(1:16, Axis(weight = ViewAxis(1:8, ShapedAxis((8, 1), NamedTuple())), bias = ViewAxis(9:16, ShapedAxis((8, 1), NamedTuple())))), layer_2 = ViewAxis(17:88, Axis(weight = ViewAxis(1:64, ShapedAxis((8, 8), NamedTuple())), bias = ViewAxis(65:72, ShapedAxis((8, 1), NamedTuple())))), layer_3 = ViewAxis(89:160, Axis(weight = ViewAxis(1:64, ShapedAxis((8, 8), NamedTuple())), bias = ViewAxis(65:72, ShapedAxis((8, 1), NamedTuple())))), layer_4 = ViewAxis(161:169, Axis(weight = ViewAxis(1:8, ShapedAxis((1, 8), NamedTuple())), bias = ViewAxis(9:9, ShapedAxis((1, 1), NamedTuple())))))), E_1 = ViewAxis(1015:1183, Axis(layer_1 = ViewAxis(1:16, Axis(weight = ViewAxis(1:8, ShapedAxis((8, 1), NamedTuple())), bias = ViewAxis(9:16, ShapedAxis((8, 1), NamedTuple())))), layer_2 = ViewAxis(17:88, Axis(weight = ViewAxis(1:64, ShapedAxis((8, 8), NamedTuple())), bias = ViewAxis(65:72, ShapedAxis((8, 1), NamedTuple())))), layer_3 = ViewAxis(89:160, Axis(weight = ViewAxis(1:64, ShapedAxis((8, 8), NamedTuple())), bias = ViewAxis(65:72, ShapedAxis((8, 1), NamedTuple())))), layer_4 = ViewAxis(161:169, Axis(weight = ViewAxis(1:8, ShapedAxis((1, 8), NamedTuple())), bias = ViewAxis(9:9, ShapedAxis((1, 1), NamedTuple())))))), E_2 = ViewAxis(1184:1352, Axis(layer_1 = ViewAxis(1:16, Axis(weight = ViewAxis(1:8, ShapedAxis((8, 1), NamedTuple())), bias = ViewAxis(9:16, ShapedAxis((8, 1), NamedTuple())))), layer_2 = ViewAxis(17:88, Axis(weight = ViewAxis(1:64, ShapedAxis((8, 8), NamedTuple())), bias = ViewAxis(65:72, ShapedAxis((8, 1), NamedTuple())))), layer_3 = ViewAxis(89:160, Axis(weight = ViewAxis(1:64, ShapedAxis((8, 8), NamedTuple())), bias = ViewAxis(65:72, ShapedAxis((8, 1), NamedTuple())))), layer_4 = ViewAxis(161:169, Axis(weight = ViewAxis(1:8, ShapedAxis((1, 8), NamedTuple())), bias = ViewAxis(9:9, ShapedAxis((1, 1), NamedTuple())))))))}}}, Vector{Float64}}}})",
      "    @ ComponentArrays C:\\Users\\Pavel\\.julia\\packages\\ComponentArrays\\YyD7i\\src\\componentarray.jl:66",
      " [15] symbolic_discretize(pde_system::PDESystem, discretization::PhysicsInformedNN{GridTraining{Float64}, ComponentVector{Float64, CuArray{Float64, 1, CUDA.Mem.DeviceBuffer}, Tuple{Axis{(T_1 = ViewAxis(1:169, Axis(layer_1 = ViewAxis(1:16, Axis(weight = ViewAxis(1:8, ShapedAxis((8, 1), NamedTuple())), bias = ViewAxis(9:16, ShapedAxis((8, 1), NamedTuple())))), layer_2 = ViewAxis(17:88, Axis(weight = ViewAxis(1:64, ShapedAxis((8, 8), NamedTuple())), bias = ViewAxis(65:72, ShapedAxis((8, 1), NamedTuple())))), layer_3 = ViewAxis(89:160, Axis(weight = ViewAxis(1:64, ShapedAxis((8, 8), NamedTuple())), bias = ViewAxis(65:72, ShapedAxis((8, 1), NamedTuple())))), layer_4 = ViewAxis(161:169, Axis(weight = ViewAxis(1:8, ShapedAxis((1, 8), NamedTuple())), bias = ViewAxis(9:9, ShapedAxis((1, 1), NamedTuple())))))), Ts_1 = ViewAxis(170:338, Axis(layer_1 = ViewAxis(1:16, Axis(weight = ViewAxis(1:8, ShapedAxis((8, 1), NamedTuple())), bias = ViewAxis(9:16, ShapedAxis((8, 1), NamedTuple())))), layer_2 = ViewAxis(17:88, Axis(weight = ViewAxis(1:64, ShapedAxis((8, 8), NamedTuple())), bias = ViewAxis(65:72, ShapedAxis((8, 1), NamedTuple())))), layer_3 = ViewAxis(89:160, Axis(weight = ViewAxis(1:64, ShapedAxis((8, 8), NamedTuple())), bias = ViewAxis(65:72, ShapedAxis((8, 1), NamedTuple())))), layer_4 = ViewAxis(161:169, Axis(weight = ViewAxis(1:8, ShapedAxis((1, 8), NamedTuple())), bias = ViewAxis(9:9, ShapedAxis((1, 1), NamedTuple())))))), T_2 = ViewAxis(339:507, Axis(layer_1 = ViewAxis(1:16, Axis(weight = ViewAxis(1:8, ShapedAxis((8, 1), NamedTuple())), bias = ViewAxis(9:16, ShapedAxis((8, 1), NamedTuple())))), layer_2 = ViewAxis(17:88, Axis(weight = ViewAxis(1:64, ShapedAxis((8, 8), NamedTuple())), bias = ViewAxis(65:72, ShapedAxis((8, 1), NamedTuple())))), layer_3 = ViewAxis(89:160, Axis(weight = ViewAxis(1:64, ShapedAxis((8, 8), NamedTuple())), bias = ViewAxis(65:72, ShapedAxis((8, 1), NamedTuple())))), layer_4 = ViewAxis(161:169, Axis(weight = ViewAxis(1:8, ShapedAxis((1, 8), NamedTuple())), bias = ViewAxis(9:9, ShapedAxis((1, 1), NamedTuple())))))), Ts_2 = ViewAxis(508:676, Axis(layer_1 = ViewAxis(1:16, Axis(weight = ViewAxis(1:8, ShapedAxis((8, 1), NamedTuple())), bias = ViewAxis(9:16, ShapedAxis((8, 1), NamedTuple())))), layer_2 = ViewAxis(17:88, Axis(weight = ViewAxis(1:64, ShapedAxis((8, 8), NamedTuple())), bias = ViewAxis(65:72, ShapedAxis((8, 1), NamedTuple())))), layer_3 = ViewAxis(89:160, Axis(weight = ViewAxis(1:64, ShapedAxis((8, 8), NamedTuple())), bias = ViewAxis(65:72, ShapedAxis((8, 1), NamedTuple())))), layer_4 = ViewAxis(161:169, Axis(weight = ViewAxis(1:8, ShapedAxis((1, 8), NamedTuple())), bias = ViewAxis(9:9, ShapedAxis((1, 1), NamedTuple())))))), V_1 = ViewAxis(677:845, Axis(layer_1 = ViewAxis(1:16, Axis(weight = ViewAxis(1:8, ShapedAxis((8, 1), NamedTuple())), bias = ViewAxis(9:16, ShapedAxis((8, 1), NamedTuple())))), layer_2 = ViewAxis(17:88, Axis(weight = ViewAxis(1:64, ShapedAxis((8, 8), NamedTuple())), bias = ViewAxis(65:72, ShapedAxis((8, 1), NamedTuple())))), layer_3 = ViewAxis(89:160, Axis(weight = ViewAxis(1:64, ShapedAxis((8, 8), NamedTuple())), bias = ViewAxis(65:72, ShapedAxis((8, 1), NamedTuple())))), layer_4 = ViewAxis(161:169, Axis(weight = ViewAxis(1:8, ShapedAxis((1, 8), NamedTuple())), bias = ViewAxis(9:9, ShapedAxis((1, 1), NamedTuple())))))), V_2 = ViewAxis(846:1014, Axis(layer_1 = ViewAxis(1:16, Axis(weight = ViewAxis(1:8, ShapedAxis((8, 1), NamedTuple())), bias = ViewAxis(9:16, ShapedAxis((8, 1), NamedTuple())))), layer_2 = ViewAxis(17:88, Axis(weight = ViewAxis(1:64, ShapedAxis((8, 8), NamedTuple())), bias = ViewAxis(65:72, ShapedAxis((8, 1), NamedTuple())))), layer_3 = ViewAxis(89:160, Axis(weight = ViewAxis(1:64, ShapedAxis((8, 8), NamedTuple())), bias = ViewAxis(65:72, ShapedAxis((8, 1), NamedTuple())))), layer_4 = ViewAxis(161:169, Axis(weight = ViewAxis(1:8, ShapedAxis((1, 8), NamedTuple())), bias = ViewAxis(9:9, ShapedAxis((1, 1), NamedTuple())))))), E_1 = ViewAxis(1015:1183, Axis(layer_1 = ViewAxis(1:16, Axis(weight = ViewAxis(1:8, ShapedAxis((8, 1), NamedTuple())), bias = ViewAxis(9:16, ShapedAxis((8, 1), NamedTuple())))), layer_2 = ViewAxis(17:88, Axis(weight = ViewAxis(1:64, ShapedAxis((8, 8), NamedTuple())), bias = ViewAxis(65:72, ShapedAxis((8, 1), NamedTuple())))), layer_3 = ViewAxis(89:160, Axis(weight = ViewAxis(1:64, ShapedAxis((8, 8), NamedTuple())), bias = ViewAxis(65:72, ShapedAxis((8, 1), NamedTuple())))), layer_4 = ViewAxis(161:169, Axis(weight = ViewAxis(1:8, ShapedAxis((1, 8), NamedTuple())), bias = ViewAxis(9:9, ShapedAxis((1, 1), NamedTuple())))))), E_2 = ViewAxis(1184:1352, Axis(layer_1 = ViewAxis(1:16, Axis(weight = ViewAxis(1:8, ShapedAxis((8, 1), NamedTuple())), bias = ViewAxis(9:16, ShapedAxis((8, 1), NamedTuple())))), layer_2 = ViewAxis(17:88, Axis(weight = ViewAxis(1:64, ShapedAxis((8, 8), NamedTuple())), bias = ViewAxis(65:72, ShapedAxis((8, 1), NamedTuple())))), layer_3 = ViewAxis(89:160, Axis(weight = ViewAxis(1:64, ShapedAxis((8, 8), NamedTuple())), bias = ViewAxis(65:72, ShapedAxis((8, 1), NamedTuple())))), layer_4 = ViewAxis(161:169, Axis(weight = ViewAxis(1:8, ShapedAxis((1, 8), NamedTuple())), bias = ViewAxis(9:9, ShapedAxis((1, 1), NamedTuple())))))))}}}, Vector{NeuralPDE.Phi{Chain{NamedTuple{(:layer_1, :layer_2, :layer_3, :layer_4), Tuple{Dense{true, typeof(NNlib.sigmoid_fast), typeof(Lux.glorot_uniform), typeof(Lux.zeros32)}, Dense{true, typeof(NNlib.sigmoid_fast), typeof(Lux.glorot_uniform), typeof(Lux.zeros32)}, Dense{true, typeof(NNlib.sigmoid_fast), typeof(Lux.glorot_uniform), typeof(Lux.zeros32)}, Dense{true, typeof(identity), typeof(Lux.glorot_uniform), typeof(Lux.zeros32)}}}}, NamedTuple{(:layer_1, :layer_2, :layer_3, :layer_4), NTuple{4, NamedTuple{(), Tuple{}}}}}}, typeof(NeuralPDE.numeric_derivative), Bool, typeof(additional_loss), Nothing, Nothing, Base.Pairs{Symbol, Union{}, Tuple{}, NamedTuple{(), Tuple{}}}})",
      "    @ NeuralPDE C:\\Users\\Pavel\\.julia\\packages\\NeuralPDE\\TKBZR\\src\\discretize.jl:484",
      " [16] discretize(pde_system::PDESystem, discretization::PhysicsInformedNN{GridTraining{Float64}, ComponentVector{Float64, CuArray{Float64, 1, CUDA.Mem.DeviceBuffer}, Tuple{Axis{(T_1 = ViewAxis(1:169, Axis(layer_1 = ViewAxis(1:16, Axis(weight = ViewAxis(1:8, ShapedAxis((8, 1), NamedTuple())), bias = ViewAxis(9:16, ShapedAxis((8, 1), NamedTuple())))), layer_2 = ViewAxis(17:88, Axis(weight = ViewAxis(1:64, ShapedAxis((8, 8), NamedTuple())), bias = ViewAxis(65:72, ShapedAxis((8, 1), NamedTuple())))), layer_3 = ViewAxis(89:160, Axis(weight = ViewAxis(1:64, ShapedAxis((8, 8), NamedTuple())), bias = ViewAxis(65:72, ShapedAxis((8, 1), NamedTuple())))), layer_4 = ViewAxis(161:169, Axis(weight = ViewAxis(1:8, ShapedAxis((1, 8), NamedTuple())), bias = ViewAxis(9:9, ShapedAxis((1, 1), NamedTuple())))))), Ts_1 = ViewAxis(170:338, Axis(layer_1 = ViewAxis(1:16, Axis(weight = ViewAxis(1:8, ShapedAxis((8, 1), NamedTuple())), bias = ViewAxis(9:16, ShapedAxis((8, 1), NamedTuple())))), layer_2 = ViewAxis(17:88, Axis(weight = ViewAxis(1:64, ShapedAxis((8, 8), NamedTuple())), bias = ViewAxis(65:72, ShapedAxis((8, 1), NamedTuple())))), layer_3 = ViewAxis(89:160, Axis(weight = ViewAxis(1:64, ShapedAxis((8, 8), NamedTuple())), bias = ViewAxis(65:72, ShapedAxis((8, 1), NamedTuple())))), layer_4 = ViewAxis(161:169, Axis(weight = ViewAxis(1:8, ShapedAxis((1, 8), NamedTuple())), bias = ViewAxis(9:9, ShapedAxis((1, 1), NamedTuple())))))), T_2 = ViewAxis(339:507, Axis(layer_1 = ViewAxis(1:16, Axis(weight = ViewAxis(1:8, ShapedAxis((8, 1), NamedTuple())), bias = ViewAxis(9:16, ShapedAxis((8, 1), NamedTuple())))), layer_2 = ViewAxis(17:88, Axis(weight = ViewAxis(1:64, ShapedAxis((8, 8), NamedTuple())), bias = ViewAxis(65:72, ShapedAxis((8, 1), NamedTuple())))), layer_3 = ViewAxis(89:160, Axis(weight = ViewAxis(1:64, ShapedAxis((8, 8), NamedTuple())), bias = ViewAxis(65:72, ShapedAxis((8, 1), NamedTuple())))), layer_4 = ViewAxis(161:169, Axis(weight = ViewAxis(1:8, ShapedAxis((1, 8), NamedTuple())), bias = ViewAxis(9:9, ShapedAxis((1, 1), NamedTuple())))))), Ts_2 = ViewAxis(508:676, Axis(layer_1 = ViewAxis(1:16, Axis(weight = ViewAxis(1:8, ShapedAxis((8, 1), NamedTuple())), bias = ViewAxis(9:16, ShapedAxis((8, 1), NamedTuple())))), layer_2 = ViewAxis(17:88, Axis(weight = ViewAxis(1:64, ShapedAxis((8, 8), NamedTuple())), bias = ViewAxis(65:72, ShapedAxis((8, 1), NamedTuple())))), layer_3 = ViewAxis(89:160, Axis(weight = ViewAxis(1:64, ShapedAxis((8, 8), NamedTuple())), bias = ViewAxis(65:72, ShapedAxis((8, 1), NamedTuple())))), layer_4 = ViewAxis(161:169, Axis(weight = ViewAxis(1:8, ShapedAxis((1, 8), NamedTuple())), bias = ViewAxis(9:9, ShapedAxis((1, 1), NamedTuple())))))), V_1 = ViewAxis(677:845, Axis(layer_1 = ViewAxis(1:16, Axis(weight = ViewAxis(1:8, ShapedAxis((8, 1), NamedTuple())), bias = ViewAxis(9:16, ShapedAxis((8, 1), NamedTuple())))), layer_2 = ViewAxis(17:88, Axis(weight = ViewAxis(1:64, ShapedAxis((8, 8), NamedTuple())), bias = ViewAxis(65:72, ShapedAxis((8, 1), NamedTuple())))), layer_3 = ViewAxis(89:160, Axis(weight = ViewAxis(1:64, ShapedAxis((8, 8), NamedTuple())), bias = ViewAxis(65:72, ShapedAxis((8, 1), NamedTuple())))), layer_4 = ViewAxis(161:169, Axis(weight = ViewAxis(1:8, ShapedAxis((1, 8), NamedTuple())), bias = ViewAxis(9:9, ShapedAxis((1, 1), NamedTuple())))))), V_2 = ViewAxis(846:1014, Axis(layer_1 = ViewAxis(1:16, Axis(weight = ViewAxis(1:8, ShapedAxis((8, 1), NamedTuple())), bias = ViewAxis(9:16, ShapedAxis((8, 1), NamedTuple())))), layer_2 = ViewAxis(17:88, Axis(weight = ViewAxis(1:64, ShapedAxis((8, 8), NamedTuple())), bias = ViewAxis(65:72, ShapedAxis((8, 1), NamedTuple())))), layer_3 = ViewAxis(89:160, Axis(weight = ViewAxis(1:64, ShapedAxis((8, 8), NamedTuple())), bias = ViewAxis(65:72, ShapedAxis((8, 1), NamedTuple())))), layer_4 = ViewAxis(161:169, Axis(weight = ViewAxis(1:8, ShapedAxis((1, 8), NamedTuple())), bias = ViewAxis(9:9, ShapedAxis((1, 1), NamedTuple())))))), E_1 = ViewAxis(1015:1183, Axis(layer_1 = ViewAxis(1:16, Axis(weight = ViewAxis(1:8, ShapedAxis((8, 1), NamedTuple())), bias = ViewAxis(9:16, ShapedAxis((8, 1), NamedTuple())))), layer_2 = ViewAxis(17:88, Axis(weight = ViewAxis(1:64, ShapedAxis((8, 8), NamedTuple())), bias = ViewAxis(65:72, ShapedAxis((8, 1), NamedTuple())))), layer_3 = ViewAxis(89:160, Axis(weight = ViewAxis(1:64, ShapedAxis((8, 8), NamedTuple())), bias = ViewAxis(65:72, ShapedAxis((8, 1), NamedTuple())))), layer_4 = ViewAxis(161:169, Axis(weight = ViewAxis(1:8, ShapedAxis((1, 8), NamedTuple())), bias = ViewAxis(9:9, ShapedAxis((1, 1), NamedTuple())))))), E_2 = ViewAxis(1184:1352, Axis(layer_1 = ViewAxis(1:16, Axis(weight = ViewAxis(1:8, ShapedAxis((8, 1), NamedTuple())), bias = ViewAxis(9:16, ShapedAxis((8, 1), NamedTuple())))), layer_2 = ViewAxis(17:88, Axis(weight = ViewAxis(1:64, ShapedAxis((8, 8), NamedTuple())), bias = ViewAxis(65:72, ShapedAxis((8, 1), NamedTuple())))), layer_3 = ViewAxis(89:160, Axis(weight = ViewAxis(1:64, ShapedAxis((8, 8), NamedTuple())), bias = ViewAxis(65:72, ShapedAxis((8, 1), NamedTuple())))), layer_4 = ViewAxis(161:169, Axis(weight = ViewAxis(1:8, ShapedAxis((1, 8), NamedTuple())), bias = ViewAxis(9:9, ShapedAxis((1, 1), NamedTuple())))))))}}}, Vector{NeuralPDE.Phi{Chain{NamedTuple{(:layer_1, :layer_2, :layer_3, :layer_4), Tuple{Dense{true, typeof(NNlib.sigmoid_fast), typeof(Lux.glorot_uniform), typeof(Lux.zeros32)}, Dense{true, typeof(NNlib.sigmoid_fast), typeof(Lux.glorot_uniform), typeof(Lux.zeros32)}, Dense{true, typeof(NNlib.sigmoid_fast), typeof(Lux.glorot_uniform), typeof(Lux.zeros32)}, Dense{true, typeof(identity), typeof(Lux.glorot_uniform), typeof(Lux.zeros32)}}}}, NamedTuple{(:layer_1, :layer_2, :layer_3, :layer_4), NTuple{4, NamedTuple{(), Tuple{}}}}}}, typeof(NeuralPDE.numeric_derivative), Bool, typeof(additional_loss), Nothing, Nothing, Base.Pairs{Symbol, Union{}, Tuple{}, NamedTuple{(), Tuple{}}}})",
      "    @ NeuralPDE C:\\Users\\Pavel\\.julia\\packages\\NeuralPDE\\TKBZR\\src\\discretize.jl:680",
      " [17] top-level scope",
      "    @ In[18]:8",
      " [18] eval",
      "    @ .\\boot.jl:368 [inlined]",
      " [19] include_string(mapexpr::typeof(REPL.softscope), mod::Module, code::String, filename::String)",
      "    @ Base .\\loading.jl:1428"
     ]
    }
   ],
   "source": [
    "discretization = NeuralPDE.PhysicsInformedNN(chain,\n",
    "                                             NeuralPDE.GridTraining(dt),\n",
    "                                             param_estim=true,\n",
    "                                             init_params =init_params,\n",
    "                                             additional_loss=additional_loss)\n",
    "                                             \n",
    "@named pde_system = PDESystem(eqs,bcs,domains,[t],var,sp, defaults=Dict([p .=> 1.0 for p in sp]))\n",
    "prob = NeuralPDE.discretize(pde_system,discretization)\n",
    "callback = function (p,l)\n",
    "    println(\"Current loss is: $l\")\n",
    "    return false\n",
    "end\n",
    "\n"
   ]
  },
  {
   "cell_type": "code",
   "execution_count": null,
   "metadata": {},
   "outputs": [],
   "source": [
    "\n",
    "discretization = NeuralPDE.PhysicsInformedNN([chain1 , chain2, chain3, chain4],\n",
    "training_strategy, \n",
    "init_params = [ps1 ps2 ps3 ps4], \n",
    "param_estim=true, \n",
    "additional_loss=additional_loss)"
   ]
  },
  {
   "cell_type": "code",
   "execution_count": null,
   "metadata": {},
   "outputs": [],
   "source": [
    "res = Optimization.solve(prob, BFGS(); callback = callback, maxiters=5000)"
   ]
  },
  {
   "cell_type": "code",
   "execution_count": null,
   "metadata": {},
   "outputs": [],
   "source": [
    "p_ = res.u[end-2:end]"
   ]
  },
  {
   "cell_type": "markdown",
   "metadata": {},
   "source": [
    "approximate"
   ]
  },
  {
   "cell_type": "code",
   "execution_count": null,
   "metadata": {},
   "outputs": [],
   "source": [
    "minimizers = [res.u.depvar[depvars[i]] for i in 1:8]\n",
    "ts = [infimum(d.domain):dt/10:supremum(d.domain) for d in domains][1]\n",
    "u_predict  = [[discretization.phi[i]([t],minimizers[i])[1] for t in ts] for i in 1:3]\n",
    "plot(sol)\n",
    "plot!(ts, u_predict, label = [\"x(t)\" \"y(t)\" \"z(t)\"])"
   ]
  }
 ],
 "metadata": {
  "kernelspec": {
   "display_name": "Julia 1.8.2",
   "language": "julia",
   "name": "julia-1.8"
  },
  "language_info": {
   "file_extension": ".jl",
   "mimetype": "application/julia",
   "name": "julia",
   "version": "1.8.2"
  },
  "orig_nbformat": 4
 },
 "nbformat": 4,
 "nbformat_minor": 2
}
