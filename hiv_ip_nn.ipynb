{
 "cells": [
  {
   "cell_type": "markdown",
   "metadata": {},
   "source": [
    "dataframe with parameters"
   ]
  },
  {
   "cell_type": "code",
   "execution_count": 5,
   "metadata": {},
   "outputs": [
    {
     "name": "stdout",
     "output_type": "stream",
     "text": [
      "31×6 DataFrame\n",
      " Row │ definition                         symbol    unit                               value        value2         TexSymbols\n",
      "     │ String                             String15  String                             Float64      Float64        String15\n",
      "─────┼────────────────────────────────────────────────────────────────────────────────────────────────────────────────────────────\n",
      "   1 │ Естественная смертность 𝑇_1        d1        1/день                                  0.02        0.02       $d_1$\n",
      "   2 │ Интенсивность  вирусного лизиса …  delta     1/день                                  0.7         0.2095     $\\\\delta$\n",
      "   3 │ естественная смертность 𝑇_2, 𝑇_2…  d2        1/день                                  0.005       0.003096   $d_2$\n",
      "   4 │ Коэффициент потенциальной эффект…  f         [0,1]                                   0.34        0.5068     $f$\n",
      "   5 │ Относительная эффективность инги…  epsilon2  [0,1]                                   0.0         0.0        $\\\\epsilon_2$\n",
      "   6 │ является скоростью активации ант…  aA        1/день                                  0.0         0.0        $a_A$\n",
      "   7 │ максимальная скоростью активации…  aT        1/день                                  0.008       0.008      $a_T$\n",
      "   8 │ Коэффициент реактивации CD8+ Т-к…  aE        1/день                                  0.1         0.1        $a_E$\n",
      "   9 │ Интенсивность разделения  𝐸_1  н…  gammaE    1/день                                  0.01        0.0005154  $\\\\gamma_E$\n",
      "  10 │ Уровень смертности 𝐸_2             deltaE2   1/день                                  0.005       0.00145    $\\\\delta_{E2}$\n",
      "  11 │ относительная эффективность инги…  epsilon1  [0,1]                                   0.0         0.7        $\\\\epsilon_1$\n",
      "  12 │ Скорость удаления 𝑇_(1 )^∗  имму…  m         мкл-кровь/(клетки день)                 0.01        0.001127   $m$\n",
      "  13 │ активация ВИЧ-специфичных покоящ…  KV        копии/мл-плазма                       100.0        14.79       $K_V$\n",
      "  14 │ интенсивность разделения 𝑇_1^∗  …  gammaT    1/день                                  0.005       0.0003792  $\\\\gamma_T$\n",
      "  15 │ Естественная смертность 𝑉_𝐼        c         1/день                                 13.0         5.818      $c$\n",
      "  16 │ Интенсивность нелинейной инфицир…  dE        1/день                                  0.25        0.06278    $d_E$\n",
      "  17 │ Уровень смертности  𝐸_1            deltaE1   1/день                                  0.1         0.05967    $\\\\delta_{E1}$\n",
      "  18 │ мультипликативный коэффициент дл…  pT        безразмер                               1.2         1.2        $p_T$\n",
      "  19 │ параметр для учета чистой пролиф…  pE        безразмер                               3.0         3.0        $p_E$\n",
      "  20 │ представляет собой максимальную …  bE2       1/день                                  0.001       0.001      $b_{E2}$\n",
      "  21 │ скоростью заражения 𝑇_1 (𝑇_2) пр…  k1        мл-плазма/(копии день)                  1.0e-5      1.0e-5     $k_1$\n",
      "  22 │ скоростью заражения 𝑇_1 (𝑇_2) пр…  k2        мл-плазма/(копии день)                  1.0e-9      2.005e-9   $k_2$\n",
      "  23 │ для учета исходной скорости «наи…  lambdaT   клетка/(мкл-кровь день)                 7.0         7.0        $\\\\lambda_T$\n",
      "  24 │ «наивные» CD4+ T-клетки            KS        копии/мл-плазма                    100000.0     27890.0        $K_S$\n",
      "  25 │ учитывает количество копий РНК, …  NT        (Копии мкл-кровь)/(клетки мл-пла…     100.0       100.0        $N_T$\n",
      "  26 │ Рождение 𝐸_1                       lambdaE   клетка/(мкл-кровь день)                 0.001       0.000993   $\\\\lambda_E$\n",
      "  27 │ максимальная скорость, с которой…  Kg        клетки/мкл-кровь                       10.0         1.357      $K_{\\\\gamma}$\n",
      "  28 │ Коэффициент нелинейного инфициро…  Kb1       клетки/мкл-кровь                        0.1         0.02488    $K_{b1}$\n",
      "  29 │ Коэффициент нелинейного инфициро…  Kb2       клетки/мкл-кровь                      100.0        86.97       $K_{b2}$\n",
      "  30 │ Коэффициент нелинейной инфициров…  Kd        клетки/мкл-кровь                        0.5         0.12       $K_d$\n",
      "  31 │ нелинейное инфицированное клеточ…  bE1       1/день                                  0.3         0.03885    $b_{E1}$\n"
     ]
    }
   ],
   "source": [
    "using DataFrames, CSV\n",
    "df = CSV.read(\"hiv_pam.csv\", DataFrame);\n",
    "println(\"$df\")"
   ]
  },
  {
   "cell_type": "markdown",
   "metadata": {},
   "source": [
    "symbolic mathematical model"
   ]
  },
  {
   "cell_type": "code",
   "execution_count": 2,
   "metadata": {},
   "outputs": [],
   "source": [
    "using NeuralPDE, Lux, ModelingToolkit, Optimization, OptimizationOptimJL, OrdinaryDiffEq, Plots\n",
    "import ModelingToolkit: Interval, infimum, supremum"
   ]
  },
  {
   "cell_type": "code",
   "execution_count": 1,
   "metadata": {},
   "outputs": [],
   "source": [
    "using ModelingToolkit"
   ]
  },
  {
   "cell_type": "code",
   "execution_count": 2,
   "metadata": {},
   "outputs": [
    {
     "data": {
      "text/latex": [
       "$$ \\begin{equation}\n",
       "\\left[\n",
       "\\begin{array}{c}\n",
       "t \\\\\n",
       "d_{1} \\\\\n",
       "k_{1} \\\\\n",
       "\\gamma_{T} \\\\\n",
       "\\gamma_{E} \\\\\n",
       "\\delta_{E2} \\\\\n",
       "p_{T} \\\\\n",
       "{\\lambda}T \\\\\n",
       "d_{2} \\\\\n",
       "k_{2} \\\\\n",
       "m \\\\\n",
       "a_{E} \\\\\n",
       "c \\\\\n",
       "\\delta_{E1} \\\\\n",
       "N_{T} \\\\\n",
       "K_{V} \\\\\n",
       "K_{\\gamma} \\\\\n",
       "\\lambda_{E} \\\\\n",
       "d_{E} \\\\\n",
       "f \\\\\n",
       "K_{S} \\\\\n",
       "K_{d} \\\\\n",
       "K_{b2} \\\\\n",
       "K_{b1} \\\\\n",
       "\\delta \\\\\n",
       "p_{E} \\\\\n",
       "b_{E1} \\\\\n",
       "b_{E2} \\\\\n",
       "\\end{array}\n",
       "\\right]\n",
       "\\end{equation}\n",
       " $$"
      ],
      "text/plain": [
       "28-element Vector{Num}:\n",
       "    t\n",
       "  d_1\n",
       "  k_1\n",
       "  γ_T\n",
       "   γ_E\n",
       "   δ_E2\n",
       "  p_T\n",
       "   λT\n",
       "  d_2\n",
       "  k_2\n",
       "    m\n",
       "   a_E\n",
       "    c\n",
       "    ⋮\n",
       "  K_γ\n",
       "   λ_E\n",
       "   d_E\n",
       "     f\n",
       "  K_S\n",
       "  K_d\n",
       " K_b2\n",
       " K_b1\n",
       "    δ\n",
       "   p_E\n",
       "   b_E1\n",
       "   b_E2"
      ]
     },
     "execution_count": 2,
     "metadata": {},
     "output_type": "execute_result"
    }
   ],
   "source": [
    "ε_1, ε_2, a_A, a_T = 0.0, 0.0,0.0, 0.008\n",
    "u = 0.0; rho_1 = 1.0; rho_2 = 1.0; \n",
    "@parameters t, d_1, k_1, γ_T, γ_E, δ_E2, p_T, λT,\n",
    "            d_2, k_2, m, a_E, c, δ_E1, N_T, K_V,\n",
    "            K_γ, λ_E, d_E, f, K_S, K_d, K_b2, K_b1, δ, p_E,\n",
    "            b_E1, b_E2"
   ]
  },
  {
   "cell_type": "code",
   "execution_count": 3,
   "metadata": {},
   "outputs": [
    {
     "data": {
      "text/plain": [
       "(::Differential) (generic function with 2 methods)"
      ]
     },
     "execution_count": 3,
     "metadata": {},
     "output_type": "execute_result"
    }
   ],
   "source": [
    "@variables T_1(..), Ts_1(..), T_2(..), Ts_2(..), V_1(..), V_2(..), E_1(..), E_2(..) \n",
    "Dt = Differential(t)"
   ]
  },
  {
   "cell_type": "code",
   "execution_count": 4,
   "metadata": {},
   "outputs": [
    {
     "data": {
      "text/latex": [
       "$$ \\begin{align}\n",
       "\\frac{\\mathrm{d} T_{1}\\left( t \\right)}{\\mathrm{d}t} =& \\frac{0.008 p_{T} T_{2}\\left( t \\right) V_{1}\\left( t \\right)}{K_{V} + V_{1}\\left( t \\right)} - d_{1} T_{1}\\left( t \\right) - \\gamma_{T} T_{1}\\left( t \\right) - k_{1} T_{1}\\left( t \\right) V_{1}\\left( t \\right) \\\\\n",
       "\\frac{\\mathrm{d} \\mathrm{Ts}_{1}\\left( t \\right)}{\\mathrm{d}t} =& \\frac{0.008 p_{T} \\mathrm{Ts}_{2}\\left( t \\right) V_{1}\\left( t \\right)}{K_{V} + V_{1}\\left( t \\right)} - \\gamma_{T} \\mathrm{Ts}_{1}\\left( t \\right) - \\delta \\mathrm{Ts}_{1}\\left( t \\right) + k_{1} T_{1}\\left( t \\right) V_{1}\\left( t \\right) - m E_{1}\\left( t \\right) \\mathrm{Ts}_{1}\\left( t \\right) \\\\\n",
       "\\frac{\\mathrm{d} T_{2}\\left( t \\right)}{\\mathrm{d}t} =& \\gamma_{T} T_{1}\\left( t \\right) + \\frac{K_{S} {\\lambda}T}{K_{S} + V_{1}\\left( t \\right)} + \\frac{ - 0.008 T_{2}\\left( t \\right) V_{1}\\left( t \\right)}{K_{V} + V_{1}\\left( t \\right)} - d_{2} T_{2}\\left( t \\right) - k_{2} T_{2}\\left( t \\right) V_{1}\\left( t \\right) \\\\\n",
       "\\frac{\\mathrm{d} \\mathrm{Ts}_{2}\\left( t \\right)}{\\mathrm{d}t} =& \\gamma_{T} \\mathrm{Ts}_{1}\\left( t \\right) + \\frac{ - 0.008 \\mathrm{Ts}_{2}\\left( t \\right) V_{1}\\left( t \\right)}{K_{V} + V_{1}\\left( t \\right)} - d_{2} T_{2}\\left( t \\right) + k_{2} T_{2}\\left( t \\right) V_{1}\\left( t \\right) \\\\\n",
       "\\frac{\\mathrm{d} V_{1}\\left( t \\right)}{\\mathrm{d}t} =&  - c V_{1}\\left( t \\right) - \\left( 1000.0 k_{1} T_{1}\\left( t \\right) + 1000.0 k_{2} T_{2}\\left( t \\right) \\right) V_{1}\\left( t \\right) + 1000.0 N_{T} \\delta \\mathrm{Ts}_{1}\\left( t \\right) \\\\\n",
       "\\frac{\\mathrm{d} V_{2}\\left( t \\right)}{\\mathrm{d}t} =&  - c V_{2}\\left( t \\right) \\\\\n",
       "\\frac{\\mathrm{d} E_{1}\\left( t \\right)}{\\mathrm{d}t} =& \\lambda_{E} + \\frac{b_{E1} E_{1}\\left( t \\right) \\mathrm{Ts}_{1}\\left( t \\right)}{K_{b1} + \\mathrm{Ts}_{1}\\left( t \\right)} + \\frac{ - d_{E} E_{1}\\left( t \\right) \\mathrm{Ts}_{1}\\left( t \\right)}{K_{d} + \\mathrm{Ts}_{1}\\left( t \\right)} + \\frac{a_{E} p_{E} E_{2}\\left( t \\right) V_{1}\\left( t \\right)}{K_{V} + V_{1}\\left( t \\right)} + \\frac{ - \\gamma_{E} \\left( T_{1}\\left( t \\right) + \\mathrm{Ts}_{1}\\left( t \\right) \\right) E_{1}\\left( t \\right)}{K_{\\gamma} + T_{1}\\left( t \\right) + \\mathrm{Ts}_{1}\\left( t \\right)} - \\delta_{E1} E_{1}\\left( t \\right) \\\\\n",
       "\\frac{\\mathrm{d} E_{2}\\left( t \\right)}{\\mathrm{d}t} =& \\frac{K_{b2} b_{E2} E_{2}\\left( t \\right)}{K_{b2} + E_{2}\\left( t \\right)} + \\frac{\\gamma_{E} \\left( T_{1}\\left( t \\right) + \\mathrm{Ts}_{1}\\left( t \\right) \\right) E_{1}\\left( t \\right)}{K_{\\gamma} + T_{1}\\left( t \\right) + \\mathrm{Ts}_{1}\\left( t \\right)} + \\frac{ - a_{E} E_{2}\\left( t \\right) V_{1}\\left( t \\right)}{K_{V} + V_{1}\\left( t \\right)} - \\delta_{E2} E_{2}\\left( t \\right)\n",
       "\\end{align}\n",
       " $$"
      ],
      "text/plain": [
       "8-element Vector{Equation}:\n",
       " Differential(t)(T_1(t)) ~ (0.008p_T*T_2(t)*V_1(t)) / (K_V + V_1(t)) - d_1*T_1(t) - γ_T*T_1(t) - k_1*T_1(t)*V_1(t)\n",
       " Differential(t)(Ts_1(t)) ~ (0.008p_T*Ts_2(t)*V_1(t)) / (K_V + V_1(t)) + k_1*T_1(t)*V_1(t) - γ_T*Ts_1(t) - δ*Ts_1(t) - m*E_1(t)*Ts_1(t)\n",
       " Differential(t)(T_2(t)) ~ γ_T*T_1(t) + (K_S*λT) / (K_S + V_1(t)) + (-0.008T_2(t)*V_1(t)) / (K_V + V_1(t)) - d_2*T_2(t) - k_2*T_2(t)*V_1(t)\n",
       " Differential(t)(Ts_2(t)) ~ γ_T*Ts_1(t) + (-0.008Ts_2(t)*V_1(t)) / (K_V + V_1(t)) + k_2*T_2(t)*V_1(t) - d_2*T_2(t)\n",
       " Differential(t)(V_1(t)) ~ 1000.0N_T*δ*Ts_1(t) - c*V_1(t) - (1000.0k_1*T_1(t) + 1000.0k_2*T_2(t))*V_1(t)\n",
       " Differential(t)(V_2(t)) ~ -c*V_2(t)\n",
       " Differential(t)(E_1(t)) ~ λ_E + (b_E1*E_1(t)*Ts_1(t)) / (K_b1 + Ts_1(t)) + (-d_E*E_1(t)*Ts_1(t)) / (K_d + Ts_1(t)) + (a_E*p_E*E_2(t)*V_1(t)) / (K_V + V_1(t)) + (-γ_E*(T_1(t) + Ts_1(t))*E_1(t)) / (K_γ + T_1(t) + Ts_1(t)) - δ_E1*E_1(t)\n",
       " Differential(t)(E_2(t)) ~ (K_b2*b_E2*E_2(t)) / (K_b2 + E_2(t)) + (γ_E*(T_1(t) + Ts_1(t))*E_1(t)) / (K_γ + T_1(t) + Ts_1(t)) + (-a_E*E_2(t)*V_1(t)) / (K_V + V_1(t)) - δ_E2*E_2(t)"
      ]
     },
     "execution_count": 4,
     "metadata": {},
     "output_type": "execute_result"
    }
   ],
   "source": [
    "\n",
    "\n",
    "eqs=[\n",
    "        Dt(T_1(t))~-d_1*T_1(t)-(1-u*ε_1)*k_1*V_1(t)*T_1(t)-γ_T*T_1(t)+p_T*(a_T*V_1(t))/(V_1(t)+K_V)*T_2(t)+p_T*a_A*T_2(t),\n",
    "        Dt(Ts_1(t))~(1-u*ε_1)*k_1*V_1(t)*T_1(t)-δ*Ts_1(t)-m*E_1(t)*Ts_1(t)-γ_T*Ts_1(t)+p_T*(a_T*V_1(t))/(V_1(t)+K_V)*Ts_2(t)+p_T*a_A*Ts_2(t),\n",
    "        Dt(T_2(t))~λT*K_S/(V_1(t)+K_S)+γ_T*T_1(t)-d_2*T_2(t)-(1-f*u*ε_1)*k_2*V_1(t)*T_2(t)-(a_T*V_1(t))/(V_1(t)+K_V)*T_2(t)-a_A*T_2(t),\n",
    "        Dt(Ts_2(t))~γ_T*Ts_1(t)+(1-f*u*ε_1)*k_2*V_1(t)*T_2(t)-d_2*T_2(t)-(a_T*V_1(t))/(V_1(t)+K_V)*Ts_2(t)-a_A*Ts_2(t),\n",
    "        Dt(V_1(t))~(1-u*ε_2)*1000.0*N_T*δ*Ts_1(t)-c*V_1(t)-1000.0*((1-u*ε_1)*rho_1*k_1*T_1(t)+(1-f*u*ε_1)*rho_2*k_2*T_2(t))*V_1(t),\n",
    "        Dt(V_2(t))~u*ε_2*1000.0*N_T*δ*Ts_1(t)-c*V_2(t),\n",
    "        Dt(E_1(t))~λ_E+b_E1*Ts_1(t)*E_1(t)/(Ts_1(t)+K_b1)-d_E*Ts_1(t)*E_1(t)/(Ts_1(t)+K_d)-δ_E1*E_1(t)-γ_E*(T_1(t)+Ts_1(t))*E_1(t)/(T_1(t)+Ts_1(t)+K_γ)+p_E*a_E*V_1(t)*E_2(t)/(V_1(t)+K_V),\n",
    "        Dt(E_2(t))~γ_E*(T_1(t)+Ts_1(t))*E_1(t)/(T_1(t)+Ts_1(t)+K_γ)+b_E2*K_b2*E_2(t)/(E_2(t)+K_b2)-δ_E2*E_2(t)-a_E*V_1(t)*E_2(t)/(V_1(t)+K_V)\n",
    "]\n",
    "\n",
    "\n"
   ]
  },
  {
   "cell_type": "markdown",
   "metadata": {},
   "source": [
    "initial data"
   ]
  },
  {
   "cell_type": "code",
   "execution_count": 6,
   "metadata": {},
   "outputs": [
    {
     "data": {
      "text/plain": [
       "8-element Vector{Float64}:\n",
       " 1.0\n",
       " 1.0\n",
       " 1.0\n",
       " 1.0\n",
       " 1.0\n",
       " 1.0\n",
       " 1.0\n",
       " 1.0"
      ]
     },
     "execution_count": 6,
     "metadata": {},
     "output_type": "execute_result"
    }
   ],
   "source": [
    "sim = [T_1(0),Ts_1(0),T_2(0),Ts_2(0),V_1(0),V_2(0),E_1(0),E_2(0)];\n",
    "init_df = [1.0 for i in 1:8]"
   ]
  },
  {
   "cell_type": "code",
   "execution_count": 7,
   "metadata": {},
   "outputs": [
    {
     "data": {
      "text/latex": [
       "$$ \\begin{align}\n",
       "T_{1}\\left( 0 \\right) =& 1.0 \\\\\n",
       "\\mathrm{Ts}_{1}\\left( 0 \\right) =& 1.0 \\\\\n",
       "T_{2}\\left( 0 \\right) =& 1.0 \\\\\n",
       "\\mathrm{Ts}_{2}\\left( 0 \\right) =& 1.0 \\\\\n",
       "V_{1}\\left( 0 \\right) =& 1.0 \\\\\n",
       "V_{2}\\left( 0 \\right) =& 1.0 \\\\\n",
       "E_{1}\\left( 0 \\right) =& 1.0 \\\\\n",
       "E_{2}\\left( 0 \\right) =& 1.0\n",
       "\\end{align}\n",
       " $$"
      ],
      "text/plain": [
       "8-element Vector{Equation}:\n",
       " T_1(0) ~ 1.0\n",
       " Ts_1(0) ~ 1.0\n",
       " T_2(0) ~ 1.0\n",
       " Ts_2(0) ~ 1.0\n",
       " V_1(0) ~ 1.0\n",
       " V_2(0) ~ 1.0\n",
       " E_1(0) ~ 1.0\n",
       " E_2(0) ~ 1.0"
      ]
     },
     "execution_count": 7,
     "metadata": {},
     "output_type": "execute_result"
    }
   ],
   "source": [
    "bcs = [s ~ i for (s,i) in zip(sim,init_df)]\n"
   ]
  },
  {
   "cell_type": "code",
   "execution_count": null,
   "metadata": {},
   "outputs": [],
   "source": [
    "domains = [t ∈ Interval(0.0,Final_Time)]\n",
    "dt = 0.5"
   ]
  },
  {
   "cell_type": "code",
   "execution_count": null,
   "metadata": {},
   "outputs": [],
   "source": [
    "function model_hiv(dX,X,p,t)\n",
    "\n",
    "    rho1 = 1.; rho2 = 1.;\n",
    "    ksi1 = p[11]*p[32]; ksi2 = p[5]*p[32];     \n",
    "    \n",
    "      dX[1] = -p[1] * X[1] - (1 - ksi1) * p[21] * X[5] * X[1] - p[14] * X[1] + p[18] * (p[7] *(X[5]/(X[5]+p[13]))+p[6]) * X[3];  #dT1\n",
    "        \n",
    "      dX[2] = (1. - ksi1) * p[21] * X[5] * X[1] - p[2] * X[2] - p[12] * X[7] * X[2] - p[14] * X[2] + p[18] * (p[7] * (X[5]/(X[5]+p[13])) + p[6]) * X[4]; #dT*_1\n",
    "        \n",
    "      dX[3] = p[23] * (p[24]/(X[5]+p[24])) + p[14] * X[1] - p[3] * X[3] - (1. - p[4] * ksi1)  * p[22] * X[5] * X[3] - (p[7] * (X[5]/(X[5]+p[13])) + p[6]) * X[3]; #dT2\n",
    "      \n",
    "      dX[4] = p[14] * X[2] + (1 - p[4] * ksi1)  * p[22] * X[5] * X[3] - p[3] * X[4] - (p[7] * (X[5]/(X[5]+p[13])) + p[6]) * X[4]; #dT_2\n",
    "        \n",
    "      dX[5] = (1. - ksi2) * 10^3 * p[25] * p[2] * X[2] - p[15] * X[5] - 10^3 * ((1 - ksi1) * rho1 * p[21] * X[1] * X[5]) - 10^3 * ((1. - p[4] * ksi1) * rho2 * p[22] * X[3] * X[5]) ; #dVI\n",
    "        \n",
    "      dX[6] = ksi2 * 10^3 * p[25] * p[2] * X[2] - p[15] * X[6]; #dVNI\n",
    "        \n",
    "      dX[7] = p[26] + p[31] * (X[2]/(X[2]+p[28])) * X[7] - p[16] * (X[2]/(X[2]+p[30])) * X[7] - p[17] * X[7] - p[9] * ((X[1]+X[2])/(X[1]+X[2]+p[27])) * X[7] + p[19] * p[8] * (X[5]/(X[5]+p[13])) * X[8]; #p[16]1\n",
    "        \n",
    "      dX[8] = p[9] * ((X[1]+X[2])/(X[1]+X[2]+p[27])) * X[7] + p[20] * (p[29]/(X[8]+p[29]))* X[8] - p[10] * X[8] - p[8] * (X[5]/(X[5]+p[13])) * X[8];\n",
    "     \n",
    "     \n",
    "end"
   ]
  },
  {
   "cell_type": "markdown",
   "metadata": {},
   "source": [
    "upload medical-experemental data for u_\n",
    "- Virual Load data\n",
    "- Total T-cells"
   ]
  },
  {
   "cell_type": "code",
   "execution_count": 6,
   "metadata": {},
   "outputs": [
    {
     "data": {
      "text/html": [
       "<div><div style = \"float: left;\"><span>8×4 DataFrame</span></div><div style = \"clear: both;\"></div></div><div class = \"data-frame\" style = \"overflow-x: scroll;\"><table class = \"data-frame\" style = \"margin-bottom: 6px;\"><thead><tr class = \"header\"><th class = \"rowNumber\" style = \"font-weight: bold; text-align: right;\">Row</th><th style = \"text-align: left;\">name</th><th style = \"text-align: left;\">day</th><th style = \"text-align: left;\">P1_VL</th><th style = \"text-align: left;\">P1_CD4</th></tr><tr class = \"subheader headerLastRow\"><th class = \"rowNumber\" style = \"font-weight: bold; text-align: right;\"></th><th title = \"String\" style = \"text-align: left;\">String</th><th title = \"Float64\" style = \"text-align: left;\">Float64</th><th title = \"Float64\" style = \"text-align: left;\">Float64</th><th title = \"Float64\" style = \"text-align: left;\">Float64</th></tr></thead><tbody><tr><td class = \"rowNumber\" style = \"font-weight: bold; text-align: right;\">1</td><td style = \"text-align: left;\">Pre-infection</td><td style = \"text-align: right;\">0.0</td><td style = \"text-align: right;\">0.0</td><td style = \"text-align: right;\">1200.0</td></tr><tr><td class = \"rowNumber\" style = \"font-weight: bold; text-align: right;\">2</td><td style = \"text-align: left;\">0 Weeks</td><td style = \"text-align: right;\">7.0</td><td style = \"text-align: right;\">5.89</td><td style = \"text-align: right;\">890.0</td></tr><tr><td class = \"rowNumber\" style = \"font-weight: bold; text-align: right;\">3</td><td style = \"text-align: left;\">1 Weeks</td><td style = \"text-align: right;\">14.0</td><td style = \"text-align: right;\">7.96</td><td style = \"text-align: right;\">600.0</td></tr><tr><td class = \"rowNumber\" style = \"font-weight: bold; text-align: right;\">4</td><td style = \"text-align: left;\">2 Weeks</td><td style = \"text-align: right;\">21.0</td><td style = \"text-align: right;\">6.3</td><td style = \"text-align: right;\">420.0</td></tr><tr><td class = \"rowNumber\" style = \"font-weight: bold; text-align: right;\">5</td><td style = \"text-align: left;\">3 Weeks</td><td style = \"text-align: right;\">28.0</td><td style = \"text-align: right;\">5.91</td><td style = \"text-align: right;\">550.0</td></tr><tr><td class = \"rowNumber\" style = \"font-weight: bold; text-align: right;\">6</td><td style = \"text-align: left;\">4 Weeks</td><td style = \"text-align: right;\">35.0</td><td style = \"text-align: right;\">5.87</td><td style = \"text-align: right;\">520.0</td></tr><tr><td class = \"rowNumber\" style = \"font-weight: bold; text-align: right;\">7</td><td style = \"text-align: left;\">6 Months</td><td style = \"text-align: right;\">180.0</td><td style = \"text-align: right;\">4.5</td><td style = \"text-align: right;\">560.0</td></tr><tr><td class = \"rowNumber\" style = \"font-weight: bold; text-align: right;\">8</td><td style = \"text-align: left;\">1 Year</td><td style = \"text-align: right;\">365.0</td><td style = \"text-align: right;\">5.0</td><td style = \"text-align: right;\">580.0</td></tr></tbody></table></div>"
      ],
      "text/latex": [
       "\\begin{tabular}{r|cccc}\n",
       "\t& name & day & P1\\_VL & P1\\_CD4\\\\\n",
       "\t\\hline\n",
       "\t& String & Float64 & Float64 & Float64\\\\\n",
       "\t\\hline\n",
       "\t1 & Pre-infection & 0.0 & 0.0 & 1200.0 \\\\\n",
       "\t2 & 0 Weeks & 7.0 & 5.89 & 890.0 \\\\\n",
       "\t3 & 1 Weeks & 14.0 & 7.96 & 600.0 \\\\\n",
       "\t4 & 2 Weeks & 21.0 & 6.3 & 420.0 \\\\\n",
       "\t5 & 3 Weeks & 28.0 & 5.91 & 550.0 \\\\\n",
       "\t6 & 4 Weeks & 35.0 & 5.87 & 520.0 \\\\\n",
       "\t7 & 6 Months & 180.0 & 4.5 & 560.0 \\\\\n",
       "\t8 & 1 Year & 365.0 & 5.0 & 580.0 \\\\\n",
       "\\end{tabular}\n"
      ],
      "text/plain": [
       "\u001b[1m8×4 DataFrame\u001b[0m\n",
       "\u001b[1m Row \u001b[0m│\u001b[1m name          \u001b[0m\u001b[1m day     \u001b[0m\u001b[1m P1_VL   \u001b[0m\u001b[1m P1_CD4  \u001b[0m\n",
       "     │\u001b[90m String        \u001b[0m\u001b[90m Float64 \u001b[0m\u001b[90m Float64 \u001b[0m\u001b[90m Float64 \u001b[0m\n",
       "─────┼──────────────────────────────────────────\n",
       "   1 │ Pre-infection      0.0     0.0    1200.0\n",
       "   2 │ 0 Weeks            7.0     5.89    890.0\n",
       "   3 │ 1 Weeks           14.0     7.96    600.0\n",
       "   4 │ 2 Weeks           21.0     6.3     420.0\n",
       "   5 │ 3 Weeks           28.0     5.91    550.0\n",
       "   6 │ 4 Weeks           35.0     5.87    520.0\n",
       "   7 │ 6 Months         180.0     4.5     560.0\n",
       "   8 │ 1 Year           365.0     5.0     580.0"
      ]
     },
     "execution_count": 6,
     "metadata": {},
     "output_type": "execute_result"
    }
   ],
   "source": [
    "using DataFrames, CSV\n",
    "name_Time = [\"Pre-infection\",\n",
    "    \"0 Weeks\",\n",
    "    \"1 Weeks\",\n",
    "    \"2 Weeks\",\n",
    "    \"3 Weeks\",\n",
    "    \"4 Weeks\",\n",
    "    \"6 Months\",\n",
    "    \"1 Year\"]\n",
    "    \n",
    "val_Time =[0.0,\n",
    "    7.0,\n",
    "    14.0,\n",
    "    21.0,\n",
    "    28.0,\n",
    "    35.0,\n",
    "    180.0,\n",
    "    365.0]\n",
    "#P1\n",
    "val_VL = [0.0, 5.89, 7.96,6.3,5.91,5.87,4.5,5.0]\n",
    "val_CD4 = [1200.,890., 600.,420.,550.,520.,560.,580.]\n",
    "\n",
    "meas_data = DataFrame(name=name_Time, day=val_Time, P1_VL=val_VL, P1_CD4=val_CD4)"
   ]
  },
  {
   "cell_type": "code",
   "execution_count": 7,
   "metadata": {},
   "outputs": [
    {
     "data": {
      "text/plain": [
       "8"
      ]
     },
     "execution_count": 7,
     "metadata": {},
     "output_type": "execute_result"
    }
   ],
   "source": [
    "len = length(val_VL)"
   ]
  },
  {
   "cell_type": "markdown",
   "metadata": {},
   "source": [
    "loss_function for nn"
   ]
  },
  {
   "cell_type": "code",
   "execution_count": null,
   "metadata": {},
   "outputs": [],
   "source": [
    "depvars = [:T_1,:Ts_1,:T_2,:Ts_2,:V_1,:V_2,:E_1,:E_2]\n",
    "function additional_loss(phi, θ , p)\n",
    "    return sum(sum(abs2, phi[i](t_ , θ[depvars[i]]) .- u_[[i], :])/len for i in 1:1:8)\n",
    "end"
   ]
  },
  {
   "cell_type": "markdown",
   "metadata": {},
   "source": [
    "layer"
   ]
  },
  {
   "cell_type": "code",
   "execution_count": null,
   "metadata": {},
   "outputs": [],
   "source": [
    "input_ = length(domains)\n",
    "n = 8\n",
    "chain1 = Lux.Chain(Dense(input_,n,Lux.σ),Dense(n,n,Lux.σ),Dense(n,n,Lux.σ),Dense(n,1))\n",
    "chain2 = Lux.Chain(Dense(input_,n,Lux.σ),Dense(n,n,Lux.σ),Dense(n,n,Lux.σ),Dense(n,1))\n",
    "chain3 = Lux.Chain(Dense(input_,n,Lux.σ),Dense(n,n,Lux.σ),Dense(n,n,Lux.σ),Dense(n,1))"
   ]
  },
  {
   "cell_type": "markdown",
   "metadata": {},
   "source": []
  },
  {
   "cell_type": "code",
   "execution_count": null,
   "metadata": {},
   "outputs": [],
   "source": [
    "pam = [σ_, ρ, β]\n",
    "var = [x(t), y(t), z(t)]"
   ]
  },
  {
   "cell_type": "code",
   "execution_count": null,
   "metadata": {},
   "outputs": [],
   "source": [
    "var = [T_1(t),Ts_1(t),T_2(t),Ts_2(t),V_1(t),V_2(t),E_1(t),E_2(t)]"
   ]
  },
  {
   "cell_type": "markdown",
   "metadata": {},
   "source": [
    "discretization"
   ]
  },
  {
   "cell_type": "code",
   "execution_count": null,
   "metadata": {},
   "outputs": [],
   "source": [
    "discretization = NeuralPDE.PhysicsInformedNN([chain1 , chain2, chain3],NeuralPDE.GridTraining(dt), param_estim=true, additional_loss=additional_loss)\n",
    "@named pde_system = PDESystem(eqs,bcs,domains,[t],var,pam, defaults=Dict([p .=> 1.0 for p in pam]))\n",
    "prob = NeuralPDE.discretize(pde_system,discretization)\n",
    "callback = function (p,l)\n",
    "    println(\"Current loss is: $l\")\n",
    "    return false\n",
    "end"
   ]
  },
  {
   "cell_type": "code",
   "execution_count": null,
   "metadata": {},
   "outputs": [],
   "source": [
    "res = Optimization.solve(prob, BFGS(); callback = callback, maxiters=5000)"
   ]
  },
  {
   "cell_type": "code",
   "execution_count": null,
   "metadata": {},
   "outputs": [],
   "source": [
    "p_ = res.u[end-2:end]"
   ]
  },
  {
   "cell_type": "markdown",
   "metadata": {},
   "source": [
    "approximate"
   ]
  },
  {
   "cell_type": "code",
   "execution_count": null,
   "metadata": {},
   "outputs": [],
   "source": [
    "minimizers = [res.u.depvar[depvars[i]] for i in 1:3]\n",
    "ts = [infimum(d.domain):dt/10:supremum(d.domain) for d in domains][1]\n",
    "u_predict  = [[discretization.phi[i]([t],minimizers[i])[1] for t in ts] for i in 1:3]\n",
    "plot(sol)\n",
    "plot!(ts, u_predict, label = [\"x(t)\" \"y(t)\" \"z(t)\"])"
   ]
  }
 ],
 "metadata": {
  "kernelspec": {
   "display_name": "Julia 1.8.2",
   "language": "julia",
   "name": "julia-1.8"
  },
  "language_info": {
   "file_extension": ".jl",
   "mimetype": "application/julia",
   "name": "julia",
   "version": "1.8.2"
  },
  "orig_nbformat": 4
 },
 "nbformat": 4,
 "nbformat_minor": 2
}
